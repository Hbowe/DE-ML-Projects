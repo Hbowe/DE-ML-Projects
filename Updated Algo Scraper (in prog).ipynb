{
 "cells": [
  {
   "cell_type": "code",
   "execution_count": 29,
   "metadata": {},
   "outputs": [],
   "source": [
    "import requests\n",
    "import json\n",
    "import time\n",
    "import polars as pl   \n",
    "import base64\n",
    "import os\n",
    "import msgpack\n",
    "from tkinter import Tcl"
   ]
  },
  {
   "cell_type": "code",
   "execution_count": 30,
   "metadata": {},
   "outputs": [],
   "source": [
    "# Mapping the 3 different API call page types to variables referencing relevant file directories.\n",
    "\n",
    "base_directory =  \"data/\"\n",
    "\n",
    "tmp_dir_staking_transactions = base_directory + \"tmp_staking_transactions/\"\n",
    "tmp_dir_staked_accounts = base_directory + \"tmp_staked_accounts/\"\n",
    "tmp_dir_sensor_transactions = base_directory + \"tmp_sensor_transactions/\"\n",
    "\n",
    "staking_transactions = base_directory + \"staking_transactions/\"\n",
    "staked_accounts = base_directory + \"staked_accounts/\"\n",
    "sensor_transactions = base_directory + \"sensor_transactions/\"\n",
    "\n",
    "staking_transactions_cleaned = base_directory + \"staking_transactions_cleaned/\"\n",
    "staked_accounts_cleaned  = base_directory + \"staked_accounts_cleaned/\"\n",
    "sensor_transactions_cleaned  = base_directory + \"sensor_transactions_cleaned/\"\n",
    "\n",
    "staking_page = \"staking_page_\"\n",
    "sensor_page = \"transaction_page_\"\n",
    "account_page = \"account_page_\"\n",
    "\n",
    "# PlanetWatch token blockchain ID\n",
    "\n",
    "asset_id = \"27165954\"\n",
    "\n",
    "# Loading date from most recent run to be imported into API call\n",
    "\n",
    "previous_time = pl.read_json(staking_transactions_cleaned + \"cleaned_staked_pages.json\").select(\"stakeTransactionDate\").to_dict(as_series=False)[\"stakeTransactionDate\"][0]\n",
    "previous_time = str(previous_time)\n",
    "\n",
    "after_time = previous_time\n",
    "\n",
    "# Base JSON scraping function and natural sorted directory func\n",
    "\n",
    "def json_scraper(url, file_name):\n",
    "    response = requests.request(\"GET\", url)\n",
    "    json_data = response.json()\n",
    "    with open(file_name, \"w\", encoding= \"utf-8\") as json_file:\n",
    "        json.dump(json_data, json_file, ensure_ascii=False, indent=4)\n",
    "\n",
    "def nat_sort_dir(parent_directory):\n",
    "    directory = os.listdir(parent_directory)\n",
    "    list_of_files = Tcl().call('lsort', '-dict', directory)\n",
    "    return list_of_files"
   ]
  },
  {
   "cell_type": "code",
   "execution_count": 31,
   "metadata": {},
   "outputs": [],
   "source": [
    "def staking_transaction_scraper_loop(tmp_dir, after_time, page_type):\n",
    "    pages_remaining = True\n",
    "    page = 1\n",
    "    current_json = tmp_dir + page_type + \"1.json\"\n",
    "    attempts = 0\n",
    "    sleep = 5\n",
    "    \n",
    "    json_scraper(\"https://mainnet-idx.algonode.cloud/v2/assets/\" + asset_id + \"/transactions?after-time=\" + after_time + \"&address=4X65WSIAVN5KTOURSM77PJXFLJ7HDLTEQ4A26BQLHSXQ7TOSY6ML3BJWKU&address-role=sender\", current_json)\n",
    "    \n",
    "    \n",
    "    while pages_remaining:\n",
    "            file = open(current_json)\n",
    "            data = json.load(file)\n",
    "            \n",
    "            data\n",
    "            base_url = \"https://mainnet-idx.algonode.cloud/v2/assets/\" + asset_id + \"/transactions?after-time=\" + after_time + \"&address=4X65WSIAVN5KTOURSM77PJXFLJ7HDLTEQ4A26BQLHSXQ7TOSY6ML3BJWKU&address-role=sender\"\n",
    "\n",
    "            try:\n",
    "                new_url = base_url[:base_url.index(\"?\")] + \"?next=\" + data[\"next-token\"] + \"&after-time=\" + after_time + \"&address=4X65WSIAVN5KTOURSM77PJXFLJ7HDLTEQ4A26BQLHSXQ7TOSY6ML3BJWKU&address-role=sender\"\n",
    "                page += 1\n",
    "                file.close()\n",
    "                current_json = tmp_dir + page_type + str(page) + \".json\"\n",
    "                attempts = 0\n",
    "                sleep = 5\n",
    "            except:\n",
    "                print(data)\n",
    "                if attempts < 4:\n",
    "                    time.sleep(sleep)\n",
    "                    sleep += 5\n",
    "                    attempts += 1\n",
    "                    file = open(tmp_dir + page_type + str(page - 1) + \".json\")\n",
    "                    data = json.load(file)\n",
    "                    new_url = base_url[:base_url.index(\"?\")] + \"?next=\" + data[\"next-token\"] + \"&after-time=\" + after_time + \"&address=4X65WSIAVN5KTOURSM77PJXFLJ7HDLTEQ4A26BQLHSXQ7TOSY6ML3BJWKU&address-role=sender\"\n",
    "                    file.close()\n",
    "                    current_json = tmp_dir + page_type + str(page) + \".json\"\n",
    "                else:\n",
    "                     break\n",
    "            \n",
    "            json_scraper(new_url, current_json)\n"
   ]
  },
  {
   "cell_type": "code",
   "execution_count": 32,
   "metadata": {},
   "outputs": [],
   "source": [
    "# Decoder function used for decoding the Base64 string baked into the note column of staking transactions\n",
    "\n",
    "def msgpack_decoder(b64_string):\n",
    "    decoded = msgpack.unpackb(base64.b64decode(b64_string))\n",
    "    return decoded\n",
    "\n",
    "def staking_transaction_cleaning(file):\n",
    "    staked = pl.read_json(file)\n",
    "    staked = staked.drop(\"current-round\", \"next-token\")\n",
    "    staked = staked.explode(\"transactions\")\n",
    "    staked = staked.unnest(\"transactions\")\n",
    "    staked = staked.drop(\"closing-amount\", \"close-rewards\", \"fee\", \"first-valid\", \"confirmed-round\", \"genesis-hash\", \"genesis-id\", \"intra-round-offset\", \"last-valid\", \"receiver-rewards\", \"round-time\", \"sender\", \"sender-rewards\", \"signature\", \"tx-type\")\n",
    "    staked = staked.unnest(\"asset-transfer-transaction\")\n",
    "    staked = staked.drop(\"asset-id\", \"close-amount\", \"amount\")\n",
    "\n",
    "    vals = [row[\"note\"] for row in staked.iter_rows(named=True)]\n",
    "    for i in vals:\n",
    "        vals[vals.index(i)] = msgpack_decoder(i)\n",
    "    for i in vals:\n",
    "        if type(i[\"hodler_program\"]) != float:\n",
    "            i[\"hodler_program\"] = float(i[\"hodler_program\"])\n",
    "        if type(i[\"total_from_the_beginning\"]) != float:\n",
    "            i[\"total_from_the_beginning\"] = float(i[\"total_from_the_beginning\"])\n",
    "\n",
    "    staked = staked.with_columns(pl.Series(name=\"decoded_notes\", values=vals))\n",
    "    staked = staked.unnest(\"decoded_notes\")\n",
    "    staked_clean = staked.drop(\"note\", \"hodler_qualifying\")\n",
    "    return staked_clean\n",
    "\n"
   ]
  },
  {
   "cell_type": "code",
   "execution_count": 33,
   "metadata": {},
   "outputs": [],
   "source": [
    "def staked_account_scraper_loop(staked_df, page_type):\n",
    "    unique_accounts = staked_df.unique(\"deviceId\", maintain_order=True)\n",
    "    unique_accounts = unique_accounts.unique(\"accountAddress\", maintain_order=True)\n",
    "    unique_accounts = [row[\"accountAddress\"] for row in unique_accounts.iter_rows(named=True)]\n",
    "    page = 1\n",
    "\n",
    "    for i in unique_accounts:\n",
    "        json_scraper(\"https://mainnet-idx.algonode.cloud/v2/accounts/\" + i + \"/assets?asset-id=\" + asset_id, tmp_dir_staked_accounts + page_type + str(page) + \".json\")\n",
    "        page += 1\n",
    "    "
   ]
  },
  {
   "cell_type": "code",
   "execution_count": 34,
   "metadata": {},
   "outputs": [],
   "source": [
    "def staked_account_cleaning(file):\n",
    "    staked = pl.read_json(file)\n",
    "    try:\n",
    "        staked = staked.drop(\"next-token\", \"current-round\")\n",
    "        staked = staked.explode(\"assets\")\n",
    "        staked = staked.unnest(\"assets\")\n",
    "        staked = staked.drop(\"asset-id\", \"is-frozen\", \"opted-in-at-round\")\n",
    "        staked = staked.replace(\"amount\", pl.Series([row[\"amount\"] / 1000000 for row in staked.iter_rows(named=True)]))\n",
    "        staked_acount_cleaned = staked.rename({\"amount\":\"balance\"})\n",
    "        return staked_acount_cleaned\n",
    "    except:\n",
    "        staked = staked.replace(\"current-round\", pl.Series([0], dtype=pl.Float64))\n",
    "        staked_acount_cleaned = staked.rename({\"current-round\":\"balance\"})\n",
    "        return staked_acount_cleaned\n"
   ]
  },
  {
   "cell_type": "code",
   "execution_count": 35,
   "metadata": {},
   "outputs": [],
   "source": [
    "def sensor_transaction_scraper_loop(tmp_dir, after_time, page_type):\n",
    "    pages_remaining = True\n",
    "    page = 1\n",
    "    current_json = tmp_dir + page_type + \".json\"\n",
    "    attempts = 0\n",
    "    sleep = 5\n",
    "    \n",
    "    json_scraper(\"https://mainnet-idx.algonode.cloud/v2/transactions?tx-type=axfer&asset-id=\" + asset_id + \"&after-time=\" + after_time + \"&currency-greater-than=0&address=ZW3ISEHZUHPO7OZGMKLKIIMKVICOUDRCERI454I3DB2BH52HGLSO67W754&address-role=sender\", current_json)\n",
    "    \n",
    "    \n",
    "    while pages_remaining:\n",
    "            file = open(current_json)\n",
    "            data = json.load(file)\n",
    "            \n",
    "            data\n",
    "            base_url = \"https://mainnet-idx.algonode.cloud/v2/transactions?tx-type=axfer&asset-id=\" + asset_id + \"&after-time=\" + after_time + \"&currency-greater-than=0&address=ZW3ISEHZUHPO7OZGMKLKIIMKVICOUDRCERI454I3DB2BH52HGLSO67W754&address-role=sender\"\n",
    "\n",
    "            try:\n",
    "                new_url = base_url[:base_url.index(\"?\")] + \"?next=\" + data[\"next-token\"] + \"&tx-type=axfer&asset-id=\" + asset_id + \"&after-time=\" + after_time + \"&currency-greater-than=0&address=ZW3ISEHZUHPO7OZGMKLKIIMKVICOUDRCERI454I3DB2BH52HGLSO67W754&address-role=sender\"\n",
    "                page += 1\n",
    "                file.close()\n",
    "                current_json = tmp_dir + page_type + str(page) + \".json\"\n",
    "                attempts = 0\n",
    "                sleep = 5\n",
    "            except:\n",
    "                print(data)\n",
    "                if attempts < 4:\n",
    "                    time.sleep(sleep)\n",
    "                    sleep += 5\n",
    "                    attempts += 1\n",
    "                    file = open(tmp_dir + page_type + str(page - 1) + \".json\")\n",
    "                    data = json.load(file)\n",
    "                    new_url = base_url[:base_url.index(\"?\")] + \"?next=\" + data[\"next-token\"] + \"&tx-type=axfer&asset-id=\" + asset_id + \"&after-time=\" + after_time + \"&currency-greater-than=0&address=ZW3ISEHZUHPO7OZGMKLKIIMKVICOUDRCERI454I3DB2BH52HGLSO67W754&address-role=sender\"\n",
    "                    file.close()\n",
    "                    current_json = tmp_dir + page_type + str(page) + \".json\"\n",
    "                else:\n",
    "                     break\n",
    "            \n",
    "            json_scraper(new_url, current_json)"
   ]
  },
  {
   "cell_type": "code",
   "execution_count": 36,
   "metadata": {},
   "outputs": [],
   "source": [
    "# Decoder function used for decoding the Base64 string baked into the note column of sensor transactions\n",
    "\n",
    "def decoder(b64_string):\n",
    "    decoded = json.loads(base64.b64decode(b64_string).decode(\"utf-8\"))\n",
    "    return decoded\n",
    "\n",
    "def sensor_transaction_cleaning(file):\n",
    "    transact = pl.read_json(file)\n",
    "    transact = transact.drop(\"current-round\", \"next-token\")\n",
    "    transact = transact.explode(\"transactions\")\n",
    "    transact = transact.unnest(\"transactions\")\n",
    "    transact = transact.drop(\"closing-amount\", \"close-rewards\", \"fee\", \"first-valid\", \"confirmed-round\", \"genesis-hash\", \"genesis-id\", \"group\", \"intra-round-offset\", \"last-valid\", \"receiver-rewards\", \"round-time\", \"sender\", \"sender-rewards\", \"signature\", \"tx-type\")\n",
    "    transact = transact.unnest(\"asset-transfer-transaction\")\n",
    "    transact = transact.drop(\"asset-id\", \"close-amount\")\n",
    "\n",
    "    vals = [row[\"note\"] for row in transact.iter_rows(named=True)]\n",
    "    for i in vals:\n",
    "        vals[vals.index(i)] = decoder(i)\n",
    "    for i in vals:\n",
    "        if 'scale' in i:\n",
    "            del i[\"scale\"]   \n",
    "        if type(i[\"type\"]) != str:\n",
    "            i[\"type\"] = str(i[\"type\"])\n",
    "        if 'tier' in i:\n",
    "            if type(i[\"tier\"]) != str:\n",
    "                i[\"tier\"] = str(i[\"tier\"])\n",
    "\n",
    "    try:\n",
    "        transact = transact.with_columns(pl.Series(name=\"decoded_notes\", values=vals))\n",
    "        transact = transact.unnest(\"decoded_notes\")\n",
    "        transact = transact.drop(\"note\")\n",
    "        transact_cleaned = transact\n",
    "        return transact_cleaned\n",
    "    except:\n",
    "        type_1_2_keys = {'date', 'streams', 'deviceId', 'type', 'status', 'tier', 'qualifying', 'localScore', 'globalScore'}\n",
    "        type_3_4_keys = {'date', 'streams', 'deviceId', 'type', 'qualifying', 'localScore', 'globalScore'}\n",
    "        type_3_4_dev = {'amount': [], 'receiver': [], 'id': [], 'note': []}\n",
    "        type_1_2_dev = {'amount': [], 'receiver': [], 'id': [], 'note': []}\n",
    "        type_3_4_decoded = []\n",
    "        type_1_2_decoded = []\n",
    "        type_3_4_df = pl.DataFrame(type_3_4_dev, schema={'amount': pl.Int64, 'receiver': pl.Utf8, 'id': pl.Utf8, 'note': pl.Utf8})\n",
    "        type_1_2_df = pl.DataFrame(type_1_2_dev, schema={'amount': pl.Int64, 'receiver': pl.Utf8, 'id': pl.Utf8, 'note': pl.Utf8})\n",
    "\n",
    "        for i in vals:\n",
    "            if i.keys() == type_3_4_keys:\n",
    "                type_3_4_df = pl.concat([type_3_4_df, pl.DataFrame(transact.row(vals.index(i), named=True))])\n",
    "                type_3_4_decoded.append(i)\n",
    "            if i.keys() == type_1_2_keys:\n",
    "                type_1_2_df = pl.concat([type_1_2_df, pl.DataFrame(transact.row(vals.index(i), named=True))])\n",
    "                type_1_2_decoded.append(i)\n",
    "\n",
    "        type_3_4_df = type_3_4_df.with_columns(pl.Series(name=\"decoded_notes\", values=type_3_4_decoded))\n",
    "        type_1_2_df = type_1_2_df.with_columns(pl.Series(name=\"decoded_notes\", values=type_1_2_decoded))\n",
    "        type_3_4_df = type_3_4_df.unnest(\"decoded_notes\")\n",
    "        type_1_2_df = type_1_2_df.unnest(\"decoded_notes\")\n",
    "\n",
    "        combined_type_df = pl.concat([type_3_4_df, type_1_2_df], how=\"diagonal\")\n",
    "        return combined_type_df\n",
    "\n"
   ]
  },
  {
   "cell_type": "code",
   "execution_count": 37,
   "metadata": {},
   "outputs": [],
   "source": [
    "# Not currently in use due to API data limits.\n",
    "\n",
    "def accounts_by_asset_balance_scraper_loop():\n",
    "    pages_remaining = True\n",
    "    page = 1\n",
    "    current_json = base_directory + \"current_accounts_pages/current_account_page_1.json\"\n",
    "    \n",
    "    json_scraper(\"https://mainnet-idx.algonode.cloud/v2/assets/27165954/balances?currency-greater-than=6999000000\", base_directory + \"current_accounts_pages/current_account_page_1.json\")\n",
    "    \n",
    "    \n",
    "    while pages_remaining:\n",
    "            file = open(current_json)\n",
    "            data = json.load(file)\n",
    "            \n",
    "            data\n",
    "            base_url = \"https://mainnet-idx.algonode.cloud/v2/assets/27165954/balances&currency-greater-than=6999000000\"\n",
    "    \n",
    "            page += 1\n",
    "            new_url = base_url[:62] + \"?next=\" + data[\"next-token\"] + \"&currency-greater-than=6999000000\"\n",
    "            file.close()\n",
    "            current_json = base_directory + \"current_accounts_pages/current_account_page_\" + str(page) + \".json\"\n",
    "    \n",
    "            json_scraper(new_url, current_json)\n",
    "            \n",
    "def accounts_by_asset_balance_cleaning(file):\n",
    "    accounts_df = pl.read_json(file)\n",
    "    accounts_df = accounts_df.drop(\"current-round\", \"next-token\")\n",
    "    accounts_df = accounts_df.explode(\"balances\")\n",
    "    accounts_df = accounts_df.unnest(\"balances\")\n",
    "    accounts_df = accounts_df.rename({\"address\":\"accountAddress\"})\n",
    "    accounts_df = accounts_df.rename({\"amount\":\"balance\"})\n",
    "    try:\n",
    "        accounts_df = accounts_df.drop(\"opted-in-at-round\", \"opted-out-at-round\", \"is-frozen\", \"deleted\")\n",
    "    except:\n",
    "        accounts_df = accounts_df.drop(\"opted-in-at-round\", \"is-frozen\", \"deleted\")\n",
    "    return accounts_df\n",
    "\n"
   ]
  },
  {
   "cell_type": "code",
   "execution_count": 38,
   "metadata": {},
   "outputs": [],
   "source": [
    "# Not currently in use due to API data limits.\n",
    "\n",
    "def account_transactions_scraper_loop(account_string):\n",
    "    pages_remaining = True\n",
    "    current_json = base_directory + \"accounts_pages/\" + account_string + \"_page_1.json\"\n",
    "    attempts = 0\n",
    "    sleep = 5\n",
    "    current_account = \"\"\n",
    "\n",
    "    json_scraper(\"https://mainnet-idx.algonode.cloud/v2/accounts/\" + account_string + \"/transactions?asset-id=27165954&currency-greater-than=0\", base_directory + \"accounts_pages/\" + account_string + \"_page_1.json\")\n",
    "    \n",
    "    \n",
    "    while pages_remaining:\n",
    "            file = open(current_json)\n",
    "            data = json.load(file)\n",
    "            \n",
    "            data\n",
    "            base_url = \"https://mainnet-idx.algonode.cloud/v2/accounts/\" + account_string + \"/transactions?asset-id=27165954&currency-greater-than=0\"\n",
    "\n",
    "            try:\n",
    "                new_url = base_url[:base_url.index(\"?\")] + \"?next=\" + data[\"next-token\"] + \"&asset-id=27165954&currency-greater-than=0\"\n",
    "\n",
    "                if current_account != account_string:\n",
    "                     current_account = account_string\n",
    "                     page = 0\n",
    "                \n",
    "                page += 1\n",
    "                file.close()\n",
    "                current_json = base_directory + \"accounts_pages/\" + account_string + \"_page_\" + str(page) + \".json\"\n",
    "                attempts = 0\n",
    "                sleep = 5\n",
    "            except:\n",
    "                print(data)\n",
    "                if attempts < 4:\n",
    "                    time.sleep(sleep)\n",
    "                    sleep += 5\n",
    "                    attempts += 1\n",
    "                    file = open(base_directory + \"accounts_pages/\" + account_string + \"_page_\" + str(page - 1) + \".json\")\n",
    "                    data = json.load(file)\n",
    "                    new_url = base_url[:base_url.index(\"?\")] + \"?next=\" + data[\"next-token\"] + \"&asset-id=27165954&currency-greater-than=0\"\n",
    "                    file.close()\n",
    "                    current_json = base_directory + \"accounts_pages/\" + account_string + \"_page_\" + str(page) + \".json\"\n",
    "                else:\n",
    "                     break\n",
    "            \n",
    "            json_scraper(new_url, current_json)"
   ]
  },
  {
   "cell_type": "code",
   "execution_count": 39,
   "metadata": {},
   "outputs": [],
   "source": [
    "# Function for adjusting page numbers of existing files in raw directory to start at the end of the new files located in temp directory. Relocation of temp directory files to raw file directory\n",
    "\n",
    "def tmp_dir_cleaning(tmp_dir, uncleaned_dir, page_type):\n",
    "\n",
    "    last_page = len(tmp_dir)\n",
    "\n",
    "    for i in nat_sort_dir(uncleaned_dir):\n",
    "        os.rename(uncleaned_dir + i, tmp_dir + page_type + str(last_page + 1) + \".json\")\n",
    "        last_page += 1\n",
    "    for i in nat_sort_dir(tmp_dir):\n",
    "        os.rename(tmp_dir + i, uncleaned_dir + i)"
   ]
  },
  {
   "cell_type": "code",
   "execution_count": 12,
   "metadata": {},
   "outputs": [
    {
     "name": "stdout",
     "output_type": "stream",
     "text": [
      "{'current-round': 32367481, 'transactions': []}\n",
      "{'current-round': 32367482, 'transactions': []}\n",
      "{'current-round': 32367485, 'transactions': []}\n",
      "{'current-round': 32367490, 'transactions': []}\n",
      "{'current-round': 32367496, 'transactions': []}\n"
     ]
    }
   ],
   "source": [
    "staking_transaction_scraper_loop(tmp_dir_staking_transactions, after_time, staking_page)\n"
   ]
  },
  {
   "cell_type": "code",
   "execution_count": 13,
   "metadata": {},
   "outputs": [
    {
     "name": "stdout",
     "output_type": "stream",
     "text": [
      "staking_page_55.json\n"
     ]
    }
   ],
   "source": [
    "# Cleaning of new JSONs and appending to lists for concatonation, debugging, or deletion\n",
    "\n",
    "staking_jsons = []\n",
    "\n",
    "broken_jsons = []\n",
    "\n",
    "for i in nat_sort_dir(tmp_dir_staking_transactions):\n",
    "    try:       \n",
    "        cleaned_file = staking_transaction_cleaning(tmp_dir_staking_transactions + i)\n",
    "        staking_jsons.append(cleaned_file)\n",
    "    except:\n",
    "        print(i)\n",
    "        broken_jsons.append(i)\n",
    "        continue\n",
    "if len(broken_jsons) == 1:\n",
    "    os.remove(tmp_dir_staking_transactions + broken_jsons[0])"
   ]
  },
  {
   "cell_type": "code",
   "execution_count": 14,
   "metadata": {},
   "outputs": [],
   "source": [
    "tmp_dir_cleaning(tmp_dir_staking_transactions, staking_transactions, staking_page)"
   ]
  },
  {
   "cell_type": "code",
   "execution_count": 27,
   "metadata": {},
   "outputs": [],
   "source": [
    "combined_staking_transactions_df = pl.concat(staking_jsons)\n",
    "combined_staking_transactions_df = combined_staking_transactions_df.rename({\"device\":\"deviceId\"})\n",
    "combined_staking_transactions_df = combined_staking_transactions_df.rename({\"id\":\"stakeTransactionId\"})\n",
    "combined_staking_transactions_df = combined_staking_transactions_df.rename({\"date\":\"stakeTransactionDate\"})\n",
    "combined_staking_transactions_df = combined_staking_transactions_df.with_columns(pl.col(\"stakeTransactionDate\").str.to_date())\n",
    "combined_staking_transactions_df = combined_staking_transactions_df.rename({\"receiver\":\"accountAddress\"})\n",
    "combined_staking_transactions_df = pl.concat([combined_staking_transactions_df, pl.read_json(staking_transactions_cleaned + \"cleaned_staked_pages.json\")])\n",
    "combined_staking_transactions_df = combined_staking_transactions_df.unique(\"stakeTransactionId\", maintain_order=True)\n",
    "combined_staking_transactions_df.write_json(staking_transactions_cleaned + \"cleaned_staked_pages.json\")"
   ]
  },
  {
   "cell_type": "code",
   "execution_count": 28,
   "metadata": {},
   "outputs": [
    {
     "data": {
      "text/html": [
       "<div><style>\n",
       ".dataframe > thead > tr > th,\n",
       ".dataframe > tbody > tr > td {\n",
       "  text-align: right;\n",
       "}\n",
       "</style>\n",
       "<small>shape: (592_395, 7)</small><table border=\"1\" class=\"dataframe\"><thead><tr><th>accountAddress</th><th>stakeTransactionId</th><th>category</th><th>stakeTransactionDate</th><th>deviceId</th><th>hodler_program</th><th>total_from_the_beginning</th></tr><tr><td>str</td><td>str</td><td>str</td><td>date</td><td>str</td><td>f64</td><td>f64</td></tr></thead><tbody><tr><td>&quot;GQK6DACLOBA65K…</td><td>&quot;HCFTXFQF3QADRN…</td><td>&quot;silver&quot;</td><td>2023-09-24</td><td>&quot;PW:AB_003082&quot;</td><td>26.6</td><td>5985.0</td></tr><tr><td>&quot;OOBP5DJRMALYTJ…</td><td>&quot;BTRKPJXODUUNRV…</td><td>&quot;diamond&quot;</td><td>2023-09-24</td><td>&quot;PW:AB_015965&quot;</td><td>266.0</td><td>60648.0</td></tr><tr><td>&quot;OOBP5DJRMALYTJ…</td><td>&quot;R7JMRYTK7SOPFO…</td><td>&quot;diamond&quot;</td><td>2023-09-24</td><td>&quot;PW:AB_028048&quot;</td><td>266.0</td><td>56658.0</td></tr><tr><td>&quot;Y4OFYXBM45HOKB…</td><td>&quot;AS34SJ3I33X22R…</td><td>&quot;silver&quot;</td><td>2023-09-24</td><td>&quot;PW:KA_013602&quot;</td><td>53.2</td><td>8937.6</td></tr><tr><td>&quot;HFPCVESO2XLDIG…</td><td>&quot;NLC2BUZF7BPZXW…</td><td>&quot;diamond&quot;</td><td>2023-09-24</td><td>&quot;PW:AB_014402&quot;</td><td>266.0</td><td>54530.0</td></tr><tr><td>&quot;BYUO2RMTBOD7DM…</td><td>&quot;3GTG4ITDVBK5B3…</td><td>&quot;silver&quot;</td><td>2023-09-24</td><td>&quot;PW:AQ_007079&quot;</td><td>133.0</td><td>27265.0</td></tr><tr><td>&quot;BYUO2RMTBOD7DM…</td><td>&quot;E2RDPRFX3YMXSX…</td><td>&quot;silver&quot;</td><td>2023-09-24</td><td>&quot;PW:AQ_007067&quot;</td><td>133.0</td><td>23408.0</td></tr><tr><td>&quot;BYUO2RMTBOD7DM…</td><td>&quot;RQR65XYDRBDCK6…</td><td>&quot;silver&quot;</td><td>2023-09-24</td><td>&quot;PW:AQ_007062&quot;</td><td>133.0</td><td>30590.0</td></tr><tr><td>&quot;Y4OFYXBM45HOKB…</td><td>&quot;UGTUVA3Z3R6KWW…</td><td>&quot;gold&quot;</td><td>2023-09-24</td><td>&quot;PW:TU_000198&quot;</td><td>266.0</td><td>61446.0</td></tr><tr><td>&quot;HFPCVESO2XLDIG…</td><td>&quot;NKYMVOFM5SCDBN…</td><td>&quot;diamond&quot;</td><td>2023-09-24</td><td>&quot;PW:AQ_005569&quot;</td><td>1330.0</td><td>258685.0</td></tr><tr><td>&quot;MAXNP7LVUX7MHD…</td><td>&quot;Z6REHZW35X2Y4Z…</td><td>&quot;diamond&quot;</td><td>2023-09-24</td><td>&quot;PW:AB_016191&quot;</td><td>266.0</td><td>32611.6</td></tr><tr><td>&quot;HFPCVESO2XLDIG…</td><td>&quot;LWFXHKVHGOCFUR…</td><td>&quot;diamond&quot;</td><td>2023-09-24</td><td>&quot;PW:KA_018034&quot;</td><td>532.0</td><td>102995.2</td></tr><tr><td>&hellip;</td><td>&hellip;</td><td>&hellip;</td><td>&hellip;</td><td>&hellip;</td><td>&hellip;</td><td>&hellip;</td></tr><tr><td>&quot;R3B6LKADWVMUR7…</td><td>&quot;2BEI6FUSHYUZT6…</td><td>&quot;gold&quot;</td><td>2023-02-01</td><td>&quot;PW:AQ_002032&quot;</td><td>665.0</td><td>665.0</td></tr><tr><td>&quot;PZMHKQATFJZDY4…</td><td>&quot;IMXMAI4JXQARIK…</td><td>&quot;silver&quot;</td><td>2023-02-01</td><td>&quot;PW:AB_027921&quot;</td><td>26.6</td><td>26.6</td></tr><tr><td>&quot;46FGY4ZP5JYWBQ…</td><td>&quot;MXFC3IERYUDWTA…</td><td>&quot;diamond&quot;</td><td>2023-02-01</td><td>&quot;PW:KA_000090&quot;</td><td>532.0</td><td>532.0</td></tr><tr><td>&quot;BGTP6JT7NQQ4JK…</td><td>&quot;L7GW3TDV5IDLGD…</td><td>&quot;diamond&quot;</td><td>2023-02-01</td><td>&quot;PW:KA_012804&quot;</td><td>532.0</td><td>532.0</td></tr><tr><td>&quot;46FGY4ZP5JYWBQ…</td><td>&quot;7GIE545H75URRC…</td><td>&quot;diamond&quot;</td><td>2023-02-01</td><td>&quot;PW:KA_017096&quot;</td><td>532.0</td><td>532.0</td></tr><tr><td>&quot;BGTP6JT7NQQ4JK…</td><td>&quot;4EA7GS6ILRFDXW…</td><td>&quot;diamond&quot;</td><td>2023-02-01</td><td>&quot;PW:TU_000114&quot;</td><td>532.0</td><td>532.0</td></tr><tr><td>&quot;BGTP6JT7NQQ4JK…</td><td>&quot;ZFS64B5ON7CHFX…</td><td>&quot;diamond&quot;</td><td>2023-02-01</td><td>&quot;PW:AQ_006229&quot;</td><td>1330.0</td><td>1330.0</td></tr><tr><td>&quot;BGTP6JT7NQQ4JK…</td><td>&quot;UOY5Y2FF32YIL3…</td><td>&quot;diamond&quot;</td><td>2023-02-01</td><td>&quot;PW:AB_016362&quot;</td><td>266.0</td><td>266.0</td></tr><tr><td>&quot;2SJIZSNHCMROXR…</td><td>&quot;NGSKFFPFETUOMR…</td><td>&quot;diamond&quot;</td><td>2023-02-01</td><td>&quot;PW:KA_017740&quot;</td><td>532.0</td><td>532.0</td></tr><tr><td>&quot;KD6PQYS4AIROWC…</td><td>&quot;LQ2BBJUBNK64JU…</td><td>&quot;diamond&quot;</td><td>2023-02-01</td><td>&quot;PW:KA_004815&quot;</td><td>532.0</td><td>532.0</td></tr><tr><td>&quot;2SJIZSNHCMROXR…</td><td>&quot;N4LE5BODGSM7WY…</td><td>&quot;diamond&quot;</td><td>2023-02-01</td><td>&quot;PW:AQ_000435&quot;</td><td>1330.0</td><td>1330.0</td></tr><tr><td>&quot;X6OFLMQ6O7EL3W…</td><td>&quot;YEU3Q6RFTTZE7E…</td><td>&quot;diamond&quot;</td><td>2023-02-01</td><td>&quot;PW:AB_016080&quot;</td><td>266.0</td><td>266.0</td></tr></tbody></table></div>"
      ],
      "text/plain": [
       "shape: (592_395, 7)\n",
       "┌──────────────┬──────────────┬──────────┬──────────────┬──────────────┬─────────────┬─────────────┐\n",
       "│ accountAddre ┆ stakeTransac ┆ category ┆ stakeTransac ┆ deviceId     ┆ hodler_prog ┆ total_from_ │\n",
       "│ ss           ┆ tionId       ┆ ---      ┆ tionDate     ┆ ---          ┆ ram         ┆ the_beginni │\n",
       "│ ---          ┆ ---          ┆ str      ┆ ---          ┆ str          ┆ ---         ┆ ng          │\n",
       "│ str          ┆ str          ┆          ┆ date         ┆              ┆ f64         ┆ ---         │\n",
       "│              ┆              ┆          ┆              ┆              ┆             ┆ f64         │\n",
       "╞══════════════╪══════════════╪══════════╪══════════════╪══════════════╪═════════════╪═════════════╡\n",
       "│ GQK6DACLOBA6 ┆ HCFTXFQF3QAD ┆ silver   ┆ 2023-09-24   ┆ PW:AB_003082 ┆ 26.6        ┆ 5985.0      │\n",
       "│ 5KCUQPURBRKT ┆ RNFZTQUO5W7R ┆          ┆              ┆              ┆             ┆             │\n",
       "│ 5HW352KF…    ┆ G2RG42TX…    ┆          ┆              ┆              ┆             ┆             │\n",
       "│ OOBP5DJRMALY ┆ BTRKPJXODUUN ┆ diamond  ┆ 2023-09-24   ┆ PW:AB_015965 ┆ 266.0       ┆ 60648.0     │\n",
       "│ TJKZBOVR3DQL ┆ RVSJALWCLEGD ┆          ┆              ┆              ┆             ┆             │\n",
       "│ E2QZSNSN…    ┆ LNNJWL7L…    ┆          ┆              ┆              ┆             ┆             │\n",
       "│ OOBP5DJRMALY ┆ R7JMRYTK7SOP ┆ diamond  ┆ 2023-09-24   ┆ PW:AB_028048 ┆ 266.0       ┆ 56658.0     │\n",
       "│ TJKZBOVR3DQL ┆ FOQZWDRMDXIH ┆          ┆              ┆              ┆             ┆             │\n",
       "│ E2QZSNSN…    ┆ MMI6YC4P…    ┆          ┆              ┆              ┆             ┆             │\n",
       "│ Y4OFYXBM45HO ┆ AS34SJ3I33X2 ┆ silver   ┆ 2023-09-24   ┆ PW:KA_013602 ┆ 53.2        ┆ 8937.6      │\n",
       "│ KBZDI6VCGSVK ┆ 2RCEHXWRQKKS ┆          ┆              ┆              ┆             ┆             │\n",
       "│ OG35DAX7…    ┆ NVQACRAK…    ┆          ┆              ┆              ┆             ┆             │\n",
       "│ …            ┆ …            ┆ …        ┆ …            ┆ …            ┆ …           ┆ …           │\n",
       "│ 2SJIZSNHCMRO ┆ NGSKFFPFETUO ┆ diamond  ┆ 2023-02-01   ┆ PW:KA_017740 ┆ 532.0       ┆ 532.0       │\n",
       "│ XRK6VY7U2BAC ┆ MRLRFE2A4FV2 ┆          ┆              ┆              ┆             ┆             │\n",
       "│ XQFUA4XG…    ┆ HIIT5OWW…    ┆          ┆              ┆              ┆             ┆             │\n",
       "│ KD6PQYS4AIRO ┆ LQ2BBJUBNK64 ┆ diamond  ┆ 2023-02-01   ┆ PW:KA_004815 ┆ 532.0       ┆ 532.0       │\n",
       "│ WCOSXG3YYE4P ┆ JUM5ELTKBMUQ ┆          ┆              ┆              ┆             ┆             │\n",
       "│ KPRR54AG…    ┆ OMAWXOMX…    ┆          ┆              ┆              ┆             ┆             │\n",
       "│ 2SJIZSNHCMRO ┆ N4LE5BODGSM7 ┆ diamond  ┆ 2023-02-01   ┆ PW:AQ_000435 ┆ 1330.0      ┆ 1330.0      │\n",
       "│ XRK6VY7U2BAC ┆ WY3PEOZLW6UH ┆          ┆              ┆              ┆             ┆             │\n",
       "│ XQFUA4XG…    ┆ UTATSNX4…    ┆          ┆              ┆              ┆             ┆             │\n",
       "│ X6OFLMQ6O7EL ┆ YEU3Q6RFTTZE ┆ diamond  ┆ 2023-02-01   ┆ PW:AB_016080 ┆ 266.0       ┆ 266.0       │\n",
       "│ 3WVJ7JZ6JMZV ┆ 7EJ74K43C67C ┆          ┆              ┆              ┆             ┆             │\n",
       "│ B6AOOWPP…    ┆ HKUYIEDS…    ┆          ┆              ┆              ┆             ┆             │\n",
       "└──────────────┴──────────────┴──────────┴──────────────┴──────────────┴─────────────┴─────────────┘"
      ]
     },
     "execution_count": 28,
     "metadata": {},
     "output_type": "execute_result"
    }
   ],
   "source": [
    "combined_staking_transactions_df = pl.DataFrame._read_json(staking_transactions_cleaned + \"cleaned_staked_pages.json\")\n",
    "combined_staking_transactions_df"
   ]
  },
  {
   "cell_type": "code",
   "execution_count": 42,
   "metadata": {},
   "outputs": [],
   "source": [
    "staked_account_scraper_loop(combined_staking_transactions_df, account_page)"
   ]
  },
  {
   "cell_type": "code",
   "execution_count": 43,
   "metadata": {},
   "outputs": [],
   "source": [
    "# Cleaning of new JSONs and appending to lists for concatonation, debugging, or deletion\n",
    "\n",
    "staked_account_jsons = []\n",
    "\n",
    "broken_jsons = []\n",
    "\n",
    "for i in nat_sort_dir(tmp_dir_staked_accounts):\n",
    "    try:\n",
    "        cleaned_file = staked_account_cleaning(tmp_dir_staked_accounts + i)\n",
    "        staked_account_jsons.append(cleaned_file)\n",
    "    except:\n",
    "        print(i)\n",
    "        broken_jsons.append(i)\n",
    "        continue\n",
    "if len(broken_jsons) == 1:\n",
    "    os.remove(tmp_dir_staked_accounts + broken_jsons[0])"
   ]
  },
  {
   "cell_type": "code",
   "execution_count": 44,
   "metadata": {},
   "outputs": [],
   "source": [
    "tmp_dir_cleaning(tmp_dir_staked_accounts, staked_accounts, account_page)"
   ]
  },
  {
   "cell_type": "code",
   "execution_count": 45,
   "metadata": {},
   "outputs": [],
   "source": [
    "unique_accounts = combined_staking_transactions_df.unique(\"deviceId\", maintain_order=True)\n",
    "unique_accounts = unique_accounts.unique(\"accountAddress\", maintain_order=True)\n",
    "\n",
    "combined_staked_account_df = pl.concat(staked_account_jsons, how=\"diagonal\")\n",
    "combined_staked_account_df = combined_staked_account_df.drop(\"opted-out-at-round\", \"deleted\")\n",
    "combined_staked_account_df = pl.concat([unique_accounts.select(\"accountAddress\"), combined_staked_account_df], how=\"horizontal\")\n",
    "combined_staked_account_df.write_json(staked_accounts_cleaned +\"cleaned_staked_accounts.json\")"
   ]
  },
  {
   "cell_type": "code",
   "execution_count": 46,
   "metadata": {},
   "outputs": [
    {
     "data": {
      "text/html": [
       "<div><style>\n",
       ".dataframe > thead > tr > th,\n",
       ".dataframe > tbody > tr > td {\n",
       "  text-align: right;\n",
       "}\n",
       "</style>\n",
       "<small>shape: (1_320, 2)</small><table border=\"1\" class=\"dataframe\"><thead><tr><th>accountAddress</th><th>balance</th></tr><tr><td>str</td><td>f64</td></tr></thead><tbody><tr><td>&quot;GQK6DACLOBA65K…</td><td>31416.140747</td></tr><tr><td>&quot;OOBP5DJRMALYTJ…</td><td>141578.554582</td></tr><tr><td>&quot;Y4OFYXBM45HOKB…</td><td>91033.423266</td></tr><tr><td>&quot;HFPCVESO2XLDIG…</td><td>560010.000079</td></tr><tr><td>&quot;BYUO2RMTBOD7DM…</td><td>114270.443206</td></tr><tr><td>&quot;MAXNP7LVUX7MHD…</td><td>487241.459024</td></tr><tr><td>&quot;PFTV6AASEGBJYA…</td><td>1.0005e6</td></tr><tr><td>&quot;TEFHFBWCW32D7E…</td><td>273564.839999</td></tr><tr><td>&quot;U3MYXYWZCYLXG5…</td><td>2.94365e6</td></tr><tr><td>&quot;Q3QXHGWXJZGEWL…</td><td>98144.203435</td></tr><tr><td>&quot;UNZMIO2LTFE64S…</td><td>789644.31163</td></tr><tr><td>&quot;WYU5AYP526T5Y4…</td><td>607297.940099</td></tr><tr><td>&hellip;</td><td>&hellip;</td></tr><tr><td>&quot;GQM6MKUBNURN4F…</td><td>137.8056</td></tr><tr><td>&quot;V7WBI6US5DC2AN…</td><td>2176.574186</td></tr><tr><td>&quot;XUY7Z43CN5XJIU…</td><td>0.0</td></tr><tr><td>&quot;MXZJRIVWGWJKME…</td><td>4713.3696</td></tr><tr><td>&quot;TO7UIYBNANYW53…</td><td>0.0</td></tr><tr><td>&quot;M4Q2DJURYT4PZY…</td><td>0.0</td></tr><tr><td>&quot;D3ZTRVWMZJHEFH…</td><td>0.0</td></tr><tr><td>&quot;LEXR4ORPSG4REB…</td><td>0.0</td></tr><tr><td>&quot;UOLFJ3IESKOJQF…</td><td>11899.52</td></tr><tr><td>&quot;WXLGXPJGP3TPYZ…</td><td>0.0</td></tr><tr><td>&quot;MLTQLCL6RQMKPD…</td><td>0.0</td></tr><tr><td>&quot;O72JX6FGUNYARA…</td><td>15.04</td></tr></tbody></table></div>"
      ],
      "text/plain": [
       "shape: (1_320, 2)\n",
       "┌───────────────────────────────────┬───────────────┐\n",
       "│ accountAddress                    ┆ balance       │\n",
       "│ ---                               ┆ ---           │\n",
       "│ str                               ┆ f64           │\n",
       "╞═══════════════════════════════════╪═══════════════╡\n",
       "│ GQK6DACLOBA65KCUQPURBRKT5HW352KF… ┆ 31416.140747  │\n",
       "│ OOBP5DJRMALYTJKZBOVR3DQLE2QZSNSN… ┆ 141578.554582 │\n",
       "│ Y4OFYXBM45HOKBZDI6VCGSVKOG35DAX7… ┆ 91033.423266  │\n",
       "│ HFPCVESO2XLDIGYEYHKOS27RJ63SUIKS… ┆ 560010.000079 │\n",
       "│ …                                 ┆ …             │\n",
       "│ UOLFJ3IESKOJQFMBJFTW5YSHUH7UJGNE… ┆ 11899.52      │\n",
       "│ WXLGXPJGP3TPYZK2X5X7EATBJCZBNS2K… ┆ 0.0           │\n",
       "│ MLTQLCL6RQMKPDACUIILLV5YPRM7IJFF… ┆ 0.0           │\n",
       "│ O72JX6FGUNYARAY64NXQPGV33KQCMEWZ… ┆ 15.04         │\n",
       "└───────────────────────────────────┴───────────────┘"
      ]
     },
     "execution_count": 46,
     "metadata": {},
     "output_type": "execute_result"
    }
   ],
   "source": [
    "combined_staked_account_df = pl.DataFrame._read_json(staked_accounts_cleaned +\"cleaned_staked_accounts.json\")\n",
    "combined_staked_account_df"
   ]
  },
  {
   "cell_type": "code",
   "execution_count": 22,
   "metadata": {},
   "outputs": [
    {
     "name": "stdout",
     "output_type": "stream",
     "text": [
      "{'message': 'error while searching for transaction: ERROR: canceling statement due to statement timeout (SQLSTATE 57014)'}\n",
      "{'message': 'error while searching for transaction: ERROR: canceling statement due to statement timeout (SQLSTATE 57014)'}\n",
      "{'message': 'error while searching for transaction: ERROR: canceling statement due to statement timeout (SQLSTATE 57014)'}\n",
      "{'current-round': 32367847, 'transactions': []}\n",
      "{'current-round': 32367850, 'transactions': []}\n",
      "{'current-round': 32367854, 'transactions': []}\n",
      "{'current-round': 32367859, 'transactions': []}\n",
      "{'current-round': 32367866, 'transactions': []}\n"
     ]
    }
   ],
   "source": [
    "sensor_transaction_scraper_loop(tmp_dir_sensor_transactions, after_time, sensor_page)"
   ]
  },
  {
   "cell_type": "code",
   "execution_count": 23,
   "metadata": {},
   "outputs": [
    {
     "name": "stdout",
     "output_type": "stream",
     "text": [
      "transaction_page_457.json\n"
     ]
    }
   ],
   "source": [
    "# Cleaning of new JSONs and appending to lists for concatonation, debugging, or deletion\n",
    "\n",
    "sensor_transact_jsons = []\n",
    "\n",
    "broken_jsons = []\n",
    "\n",
    "for i in nat_sort_dir(tmp_dir_sensor_transactions):\n",
    "    try:       \n",
    "        cleaned_file = sensor_transaction_cleaning(tmp_dir_sensor_transactions + i)\n",
    "        sensor_transact_jsons.append(cleaned_file)\n",
    "    except:\n",
    "        print(i)\n",
    "        broken_jsons.append(i)\n",
    "        continue\n",
    "if len(broken_jsons) == 1:\n",
    "    os.remove(tmp_dir_sensor_transactions + broken_jsons[0])"
   ]
  },
  {
   "cell_type": "code",
   "execution_count": 24,
   "metadata": {},
   "outputs": [],
   "source": [
    "tmp_dir_cleaning(tmp_dir_sensor_transactions, sensor_transactions, sensor_page)"
   ]
  },
  {
   "cell_type": "code",
   "execution_count": 40,
   "metadata": {},
   "outputs": [],
   "source": [
    "combined_sensor_transaction_df = pl.concat(sensor_transact_jsons, how=\"diagonal\")\n",
    "combined_sensor_transaction_df = combined_sensor_transaction_df.rename({\"id\":\"transactionId\"})\n",
    "combined_sensor_transaction_df = combined_sensor_transaction_df.rename({\"receiver\":\"accountAddress\"})\n",
    "combined_sensor_transaction_df = combined_sensor_transaction_df.rename({\"transactionId\":\"sensorTransactionId\"})\n",
    "combined_sensor_transaction_df = combined_sensor_transaction_df.filter((pl.col(\"qualifying\") != False))\n",
    "combined_sensor_transaction_df = combined_sensor_transaction_df.drop(\"qualifying\")\n",
    "#combined_sensor_transaction_df = combined_sensor_transaction_df.filter((pl.col(\"type\") == \"1\") & (pl.col(\"streams\") >= 48) | (pl.col(\"type\") == \"2\") & (pl.col(\"streams\") >= 48) | (pl.col(\"type\") == \"3\") & (pl.col(\"streams\") >= 144) | (pl.col(\"type\") == \"4\") & (pl.col(\"streams\") >= 463))\n",
    "combined_sensor_transaction_df = combined_sensor_transaction_df.filter(pl.col(\"deviceId\").is_in([row[\"deviceId\"] for row in combined_staking_transactions_df.iter_rows(named=True)]))\n",
    "combined_sensor_transaction_df = combined_sensor_transaction_df.with_columns(pl.col(\"date\").str.to_date())\n",
    "combined_sensor_transaction_df = combined_sensor_transaction_df.replace(\"amount\", pl.Series([row[\"amount\"] / 1000000 for row in combined_sensor_transaction_df.iter_rows(named=True)]))\n",
    "combined_sensor_transaction_df = pl.concat([combined_sensor_transaction_df, pl.read_json(sensor_transactions_cleaned + \"transactions_cleaned.json\")])\n",
    "combined_sensor_transaction_df = combined_sensor_transaction_df.unique(\"sensorTransactionId\", maintain_order=True)\n",
    "combined_sensor_transaction_df.write_json(sensor_transactions_cleaned + \"transactions_cleaned.json\")"
   ]
  },
  {
   "cell_type": "code",
   "execution_count": 41,
   "metadata": {},
   "outputs": [
    {
     "data": {
      "text/html": [
       "<div><style>\n",
       ".dataframe > thead > tr > th,\n",
       ".dataframe > tbody > tr > td {\n",
       "  text-align: right;\n",
       "}\n",
       "</style>\n",
       "<small>shape: (1_469_829, 11)</small><table border=\"1\" class=\"dataframe\"><thead><tr><th>amount</th><th>accountAddress</th><th>sensorTransactionId</th><th>date</th><th>streams</th><th>deviceId</th><th>type</th><th>localScore</th><th>globalScore</th><th>status</th><th>tier</th></tr><tr><td>f64</td><td>str</td><td>str</td><td>date</td><td>i64</td><td>str</td><td>str</td><td>i64</td><td>i64</td><td>str</td><td>str</td></tr></thead><tbody><tr><td>11.712</td><td>&quot;BR55CBEWTQXNVY…</td><td>&quot;CTIICLAVP2SBVF…</td><td>2023-09-24</td><td>366</td><td>&quot;PW:AB_001553&quot;</td><td>&quot;4&quot;</td><td>357</td><td>357</td><td>null</td><td>null</td></tr><tr><td>2.928</td><td>&quot;LSAHUHHFNBWVSQ…</td><td>&quot;MS3DIR5HORQNPC…</td><td>2023-09-24</td><td>366</td><td>&quot;PW:AB_001553&quot;</td><td>&quot;4&quot;</td><td>357</td><td>357</td><td>null</td><td>null</td></tr><tr><td>15.904</td><td>&quot;VFDFKPZQS6GP7V…</td><td>&quot;OXOY2JCA3KE7JW…</td><td>2023-09-24</td><td>497</td><td>&quot;PW:AB_003396&quot;</td><td>&quot;4&quot;</td><td>599</td><td>599</td><td>null</td><td>null</td></tr><tr><td>3.976</td><td>&quot;LSAHUHHFNBWVSQ…</td><td>&quot;VDAF4SVWHNWJ26…</td><td>2023-09-24</td><td>497</td><td>&quot;PW:AB_003396&quot;</td><td>&quot;4&quot;</td><td>599</td><td>599</td><td>null</td><td>null</td></tr><tr><td>14.08</td><td>&quot;REEJWQX7T54PJS…</td><td>&quot;2HTAVUL7T4N2S2…</td><td>2023-09-24</td><td>440</td><td>&quot;PW:AB_010622&quot;</td><td>&quot;4&quot;</td><td>607</td><td>607</td><td>null</td><td>null</td></tr><tr><td>3.52</td><td>&quot;LSAHUHHFNBWVSQ…</td><td>&quot;NK35OT65EQCF6T…</td><td>2023-09-24</td><td>440</td><td>&quot;PW:AB_010622&quot;</td><td>&quot;4&quot;</td><td>607</td><td>607</td><td>null</td><td>null</td></tr><tr><td>12.064</td><td>&quot;WYOODKLS2HNPFA…</td><td>&quot;5MWJGM3UJBHMYR…</td><td>2023-09-24</td><td>377</td><td>&quot;PW:AB_004269&quot;</td><td>&quot;4&quot;</td><td>702</td><td>702</td><td>null</td><td>null</td></tr><tr><td>3.016</td><td>&quot;LSAHUHHFNBWVSQ…</td><td>&quot;R7QPHHZX4Z7RLL…</td><td>2023-09-24</td><td>377</td><td>&quot;PW:AB_004269&quot;</td><td>&quot;4&quot;</td><td>702</td><td>702</td><td>null</td><td>null</td></tr><tr><td>15.488</td><td>&quot;3UDL7GFUQ35Z3H…</td><td>&quot;PFMJLIKPX5VVBI…</td><td>2023-09-24</td><td>484</td><td>&quot;PW:AB_027763&quot;</td><td>&quot;4&quot;</td><td>202</td><td>202</td><td>null</td><td>null</td></tr><tr><td>3.872</td><td>&quot;LSAHUHHFNBWVSQ…</td><td>&quot;2CRYFBFO6U5PUD…</td><td>2023-09-24</td><td>484</td><td>&quot;PW:AB_027763&quot;</td><td>&quot;4&quot;</td><td>202</td><td>202</td><td>null</td><td>null</td></tr><tr><td>16.096</td><td>&quot;B3AHXZUMK5H2UW…</td><td>&quot;DX6TZRUZ5CVPXP…</td><td>2023-09-24</td><td>503</td><td>&quot;PW:AB_002694&quot;</td><td>&quot;4&quot;</td><td>768</td><td>768</td><td>null</td><td>null</td></tr><tr><td>4.024</td><td>&quot;LSAHUHHFNBWVSQ…</td><td>&quot;C76GMOYSOPDMJL…</td><td>2023-09-24</td><td>503</td><td>&quot;PW:AB_002694&quot;</td><td>&quot;4&quot;</td><td>768</td><td>768</td><td>null</td><td>null</td></tr><tr><td>&hellip;</td><td>&hellip;</td><td>&hellip;</td><td>&hellip;</td><td>&hellip;</td><td>&hellip;</td><td>&hellip;</td><td>&hellip;</td><td>&hellip;</td><td>&hellip;</td><td>&hellip;</td></tr><tr><td>133.3248</td><td>&quot;VJ6CID7FF4Z4SM…</td><td>&quot;ZSA32VPS7GYWZ7…</td><td>2023-02-01</td><td>96</td><td>&quot;PW:AQ_002516&quot;</td><td>&quot;1&quot;</td><td>416</td><td>416</td><td>&quot;L&quot;</td><td>&quot;1&quot;</td></tr><tr><td>33.3312</td><td>&quot;LSAHUHHFNBWVSQ…</td><td>&quot;NXURT6PVKJY4Z2…</td><td>2023-02-01</td><td>96</td><td>&quot;PW:AQ_002516&quot;</td><td>&quot;1&quot;</td><td>416</td><td>416</td><td>&quot;L&quot;</td><td>&quot;1&quot;</td></tr><tr><td>133.3248</td><td>&quot;25U4Z4FFIZZZAX…</td><td>&quot;V6CZWP23YB7CZQ…</td><td>2023-02-01</td><td>96</td><td>&quot;PW:AQ_003137&quot;</td><td>&quot;1&quot;</td><td>494</td><td>494</td><td>&quot;L&quot;</td><td>&quot;1&quot;</td></tr><tr><td>33.3312</td><td>&quot;LSAHUHHFNBWVSQ…</td><td>&quot;TDART6B5GJOEOH…</td><td>2023-02-01</td><td>96</td><td>&quot;PW:AQ_003137&quot;</td><td>&quot;1&quot;</td><td>494</td><td>494</td><td>&quot;L&quot;</td><td>&quot;1&quot;</td></tr><tr><td>129.1584</td><td>&quot;BKX6CDNO4NV6XW…</td><td>&quot;EC7JBB3EFNTZY4…</td><td>2023-02-01</td><td>93</td><td>&quot;PW:AQ_002567&quot;</td><td>&quot;1&quot;</td><td>23</td><td>188</td><td>&quot;L&quot;</td><td>&quot;1&quot;</td></tr><tr><td>32.2896</td><td>&quot;LSAHUHHFNBWVSQ…</td><td>&quot;I4A3K5D7YNK2DU…</td><td>2023-02-01</td><td>93</td><td>&quot;PW:AQ_002567&quot;</td><td>&quot;1&quot;</td><td>23</td><td>188</td><td>&quot;L&quot;</td><td>&quot;1&quot;</td></tr><tr><td>133.3248</td><td>&quot;3FANFVUZEFAXKZ…</td><td>&quot;Z2JVNGAO3DXR2U…</td><td>2023-02-01</td><td>96</td><td>&quot;PW:AQ_004034&quot;</td><td>&quot;1&quot;</td><td>471</td><td>471</td><td>&quot;L&quot;</td><td>&quot;1&quot;</td></tr><tr><td>33.3312</td><td>&quot;LSAHUHHFNBWVSQ…</td><td>&quot;POQWYZUJPBZFTS…</td><td>2023-02-01</td><td>96</td><td>&quot;PW:AQ_004034&quot;</td><td>&quot;1&quot;</td><td>471</td><td>471</td><td>&quot;L&quot;</td><td>&quot;1&quot;</td></tr><tr><td>119.99232</td><td>&quot;23VNDIXKWGWHUH…</td><td>&quot;5KKEYHDLUGN3DL…</td><td>2023-02-01</td><td>96</td><td>&quot;PW:AQ_003835&quot;</td><td>&quot;1&quot;</td><td>129</td><td>129</td><td>&quot;L&quot;</td><td>&quot;1&quot;</td></tr><tr><td>29.99808</td><td>&quot;LSAHUHHFNBWVSQ…</td><td>&quot;ZQ7P2DEIS4KCSP…</td><td>2023-02-01</td><td>96</td><td>&quot;PW:AQ_003835&quot;</td><td>&quot;1&quot;</td><td>129</td><td>129</td><td>&quot;L&quot;</td><td>&quot;1&quot;</td></tr><tr><td>133.3248</td><td>&quot;IFO7MBGUMZBEG7…</td><td>&quot;MEJRJMCJSYOAUP…</td><td>2023-02-01</td><td>96</td><td>&quot;PW:AQ_004785&quot;</td><td>&quot;1&quot;</td><td>430</td><td>430</td><td>&quot;L&quot;</td><td>&quot;1&quot;</td></tr><tr><td>33.3312</td><td>&quot;LSAHUHHFNBWVSQ…</td><td>&quot;5RSLNXD5TNCGMW…</td><td>2023-02-01</td><td>96</td><td>&quot;PW:AQ_004785&quot;</td><td>&quot;1&quot;</td><td>430</td><td>430</td><td>&quot;L&quot;</td><td>&quot;1&quot;</td></tr></tbody></table></div>"
      ],
      "text/plain": [
       "shape: (1_469_829, 11)\n",
       "┌───────────┬─────────────┬─────────────┬────────────┬───┬────────────┬────────────┬────────┬──────┐\n",
       "│ amount    ┆ accountAddr ┆ sensorTrans ┆ date       ┆ … ┆ localScore ┆ globalScor ┆ status ┆ tier │\n",
       "│ ---       ┆ ess         ┆ actionId    ┆ ---        ┆   ┆ ---        ┆ e          ┆ ---    ┆ ---  │\n",
       "│ f64       ┆ ---         ┆ ---         ┆ date       ┆   ┆ i64        ┆ ---        ┆ str    ┆ str  │\n",
       "│           ┆ str         ┆ str         ┆            ┆   ┆            ┆ i64        ┆        ┆      │\n",
       "╞═══════════╪═════════════╪═════════════╪════════════╪═══╪════════════╪════════════╪════════╪══════╡\n",
       "│ 11.712    ┆ BR55CBEWTQX ┆ CTIICLAVP2S ┆ 2023-09-24 ┆ … ┆ 357        ┆ 357        ┆ null   ┆ null │\n",
       "│           ┆ NVY6AUITVCX ┆ BVFYRZ4I2SD ┆            ┆   ┆            ┆            ┆        ┆      │\n",
       "│           ┆ QZXHD7IDNL… ┆ SIFU6MOXWG… ┆            ┆   ┆            ┆            ┆        ┆      │\n",
       "│ 2.928     ┆ LSAHUHHFNBW ┆ MS3DIR5HORQ ┆ 2023-09-24 ┆ … ┆ 357        ┆ 357        ┆ null   ┆ null │\n",
       "│           ┆ VSQFT55KT7T ┆ NPCHMA6Z3VW ┆            ┆   ┆            ┆            ┆        ┆      │\n",
       "│           ┆ JBQI7FAMCU… ┆ 2EKWA5G7OZ… ┆            ┆   ┆            ┆            ┆        ┆      │\n",
       "│ 15.904    ┆ VFDFKPZQS6G ┆ OXOY2JCA3KE ┆ 2023-09-24 ┆ … ┆ 599        ┆ 599        ┆ null   ┆ null │\n",
       "│           ┆ P7VLOMAFTI5 ┆ 7JWYES5CD7E ┆            ┆   ┆            ┆            ┆        ┆      │\n",
       "│           ┆ EMVLT77W5P… ┆ KVG4ZV22BD… ┆            ┆   ┆            ┆            ┆        ┆      │\n",
       "│ 3.976     ┆ LSAHUHHFNBW ┆ VDAF4SVWHNW ┆ 2023-09-24 ┆ … ┆ 599        ┆ 599        ┆ null   ┆ null │\n",
       "│           ┆ VSQFT55KT7T ┆ J26F52KY7FU ┆            ┆   ┆            ┆            ┆        ┆      │\n",
       "│           ┆ JBQI7FAMCU… ┆ 2NL645SPSE… ┆            ┆   ┆            ┆            ┆        ┆      │\n",
       "│ …         ┆ …           ┆ …           ┆ …          ┆ … ┆ …          ┆ …          ┆ …      ┆ …    │\n",
       "│ 119.99232 ┆ 23VNDIXKWGW ┆ 5KKEYHDLUGN ┆ 2023-02-01 ┆ … ┆ 129        ┆ 129        ┆ L      ┆ 1    │\n",
       "│           ┆ HUHPZM3ZUSO ┆ 3DLU6BISEJN ┆            ┆   ┆            ┆            ┆        ┆      │\n",
       "│           ┆ EIHN4PFYHA… ┆ 2BHNLBD3RR… ┆            ┆   ┆            ┆            ┆        ┆      │\n",
       "│ 29.99808  ┆ LSAHUHHFNBW ┆ ZQ7P2DEIS4K ┆ 2023-02-01 ┆ … ┆ 129        ┆ 129        ┆ L      ┆ 1    │\n",
       "│           ┆ VSQFT55KT7T ┆ CSPQABLS5ED ┆            ┆   ┆            ┆            ┆        ┆      │\n",
       "│           ┆ JBQI7FAMCU… ┆ UMVAUIRUMF… ┆            ┆   ┆            ┆            ┆        ┆      │\n",
       "│ 133.3248  ┆ IFO7MBGUMZB ┆ MEJRJMCJSYO ┆ 2023-02-01 ┆ … ┆ 430        ┆ 430        ┆ L      ┆ 1    │\n",
       "│           ┆ EG7FSTRJTYN ┆ AUPAOI5DDMP ┆            ┆   ┆            ┆            ┆        ┆      │\n",
       "│           ┆ UIQLLBAMTJ… ┆ 65IUJGAOGR… ┆            ┆   ┆            ┆            ┆        ┆      │\n",
       "│ 33.3312   ┆ LSAHUHHFNBW ┆ 5RSLNXD5TNC ┆ 2023-02-01 ┆ … ┆ 430        ┆ 430        ┆ L      ┆ 1    │\n",
       "│           ┆ VSQFT55KT7T ┆ GMWUZ4S6K5X ┆            ┆   ┆            ┆            ┆        ┆      │\n",
       "│           ┆ JBQI7FAMCU… ┆ BXKXH4PJTA… ┆            ┆   ┆            ┆            ┆        ┆      │\n",
       "└───────────┴─────────────┴─────────────┴────────────┴───┴────────────┴────────────┴────────┴──────┘"
      ]
     },
     "execution_count": 41,
     "metadata": {},
     "output_type": "execute_result"
    }
   ],
   "source": [
    "combined_sensor_transact_df = pl.DataFrame._read_json(sensor_transactions_cleaned + \"transactions_cleaned.json\")\n",
    "combined_sensor_transact_df"
   ]
  },
  {
   "cell_type": "code",
   "execution_count": null,
   "metadata": {},
   "outputs": [],
   "source": []
  }
 ],
 "metadata": {
  "kernelspec": {
   "display_name": "Python 3",
   "language": "python",
   "name": "python3"
  },
  "language_info": {
   "codemirror_mode": {
    "name": "ipython",
    "version": 3
   },
   "file_extension": ".py",
   "mimetype": "text/x-python",
   "name": "python",
   "nbconvert_exporter": "python",
   "pygments_lexer": "ipython3",
   "version": "3.10.12"
  },
  "orig_nbformat": 4
 },
 "nbformat": 4,
 "nbformat_minor": 2
}
