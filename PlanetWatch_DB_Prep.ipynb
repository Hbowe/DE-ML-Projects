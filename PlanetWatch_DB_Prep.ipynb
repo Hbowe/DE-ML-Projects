{
 "cells": [
  {
   "cell_type": "code",
   "execution_count": 11,
   "metadata": {},
   "outputs": [],
   "source": [
    "import polars as pl\n",
    "from dags.credentials import credentials\n",
    "from sqlalchemy import create_engine"
   ]
  },
  {
   "cell_type": "code",
   "execution_count": 12,
   "metadata": {},
   "outputs": [],
   "source": [
    "# Directories and importing credentials\n",
    "\n",
    "base_directory = credentials.get(\"Base_Directory\")\n",
    "\n",
    "staking_transactions_cleaned = base_directory + \"staking_transactions_cleaned/\"\n",
    "staked_accounts_cleaned  = base_directory + \"staked_accounts_cleaned/\"\n",
    "sensor_transactions_cleaned  = base_directory + \"sensor_transactions_cleaned/\"\n",
    "\n",
    "connection_method = credentials.get(\"DB_Connection_Method\", \"method\")\n",
    "db_user_name = credentials.get(\"DB_User_Name\", \"user\")\n",
    "pwd = credentials.get(\"DB_Password\", \"password\")\n",
    "db_DSN = credentials.get(\"DB_DSN\", \"dsn\")\n",
    "\n",
    "engine = create_engine(connection_method + db_user_name + pwd + db_DSN)\n"
   ]
  },
  {
   "cell_type": "code",
   "execution_count": 13,
   "metadata": {},
   "outputs": [
    {
     "data": {
      "text/html": [
       "<div><style>\n",
       ".dataframe > thead > tr > th,\n",
       ".dataframe > tbody > tr > td {\n",
       "  text-align: right;\n",
       "}\n",
       "</style>\n",
       "<small>shape: (592_395, 7)</small><table border=\"1\" class=\"dataframe\"><thead><tr><th>accountAddress</th><th>stakeTransactionId</th><th>category</th><th>stakeTransactionDate</th><th>deviceId</th><th>hodler_program</th><th>total_from_the_beginning</th></tr><tr><td>str</td><td>str</td><td>str</td><td>date</td><td>str</td><td>f64</td><td>f64</td></tr></thead><tbody><tr><td>&quot;GQK6DACLOBA65K…</td><td>&quot;HCFTXFQF3QADRN…</td><td>&quot;silver&quot;</td><td>2023-09-24</td><td>&quot;PW:AB_003082&quot;</td><td>26.6</td><td>5985.0</td></tr><tr><td>&quot;OOBP5DJRMALYTJ…</td><td>&quot;BTRKPJXODUUNRV…</td><td>&quot;diamond&quot;</td><td>2023-09-24</td><td>&quot;PW:AB_015965&quot;</td><td>266.0</td><td>60648.0</td></tr><tr><td>&quot;OOBP5DJRMALYTJ…</td><td>&quot;R7JMRYTK7SOPFO…</td><td>&quot;diamond&quot;</td><td>2023-09-24</td><td>&quot;PW:AB_028048&quot;</td><td>266.0</td><td>56658.0</td></tr><tr><td>&quot;Y4OFYXBM45HOKB…</td><td>&quot;AS34SJ3I33X22R…</td><td>&quot;silver&quot;</td><td>2023-09-24</td><td>&quot;PW:KA_013602&quot;</td><td>53.2</td><td>8937.6</td></tr><tr><td>&quot;HFPCVESO2XLDIG…</td><td>&quot;NLC2BUZF7BPZXW…</td><td>&quot;diamond&quot;</td><td>2023-09-24</td><td>&quot;PW:AB_014402&quot;</td><td>266.0</td><td>54530.0</td></tr><tr><td>&quot;BYUO2RMTBOD7DM…</td><td>&quot;3GTG4ITDVBK5B3…</td><td>&quot;silver&quot;</td><td>2023-09-24</td><td>&quot;PW:AQ_007079&quot;</td><td>133.0</td><td>27265.0</td></tr><tr><td>&quot;BYUO2RMTBOD7DM…</td><td>&quot;E2RDPRFX3YMXSX…</td><td>&quot;silver&quot;</td><td>2023-09-24</td><td>&quot;PW:AQ_007067&quot;</td><td>133.0</td><td>23408.0</td></tr><tr><td>&quot;BYUO2RMTBOD7DM…</td><td>&quot;RQR65XYDRBDCK6…</td><td>&quot;silver&quot;</td><td>2023-09-24</td><td>&quot;PW:AQ_007062&quot;</td><td>133.0</td><td>30590.0</td></tr><tr><td>&quot;Y4OFYXBM45HOKB…</td><td>&quot;UGTUVA3Z3R6KWW…</td><td>&quot;gold&quot;</td><td>2023-09-24</td><td>&quot;PW:TU_000198&quot;</td><td>266.0</td><td>61446.0</td></tr><tr><td>&quot;HFPCVESO2XLDIG…</td><td>&quot;NKYMVOFM5SCDBN…</td><td>&quot;diamond&quot;</td><td>2023-09-24</td><td>&quot;PW:AQ_005569&quot;</td><td>1330.0</td><td>258685.0</td></tr><tr><td>&quot;MAXNP7LVUX7MHD…</td><td>&quot;Z6REHZW35X2Y4Z…</td><td>&quot;diamond&quot;</td><td>2023-09-24</td><td>&quot;PW:AB_016191&quot;</td><td>266.0</td><td>32611.6</td></tr><tr><td>&quot;HFPCVESO2XLDIG…</td><td>&quot;LWFXHKVHGOCFUR…</td><td>&quot;diamond&quot;</td><td>2023-09-24</td><td>&quot;PW:KA_018034&quot;</td><td>532.0</td><td>102995.2</td></tr><tr><td>&hellip;</td><td>&hellip;</td><td>&hellip;</td><td>&hellip;</td><td>&hellip;</td><td>&hellip;</td><td>&hellip;</td></tr><tr><td>&quot;R3B6LKADWVMUR7…</td><td>&quot;2BEI6FUSHYUZT6…</td><td>&quot;gold&quot;</td><td>2023-02-01</td><td>&quot;PW:AQ_002032&quot;</td><td>665.0</td><td>665.0</td></tr><tr><td>&quot;PZMHKQATFJZDY4…</td><td>&quot;IMXMAI4JXQARIK…</td><td>&quot;silver&quot;</td><td>2023-02-01</td><td>&quot;PW:AB_027921&quot;</td><td>26.6</td><td>26.6</td></tr><tr><td>&quot;46FGY4ZP5JYWBQ…</td><td>&quot;MXFC3IERYUDWTA…</td><td>&quot;diamond&quot;</td><td>2023-02-01</td><td>&quot;PW:KA_000090&quot;</td><td>532.0</td><td>532.0</td></tr><tr><td>&quot;BGTP6JT7NQQ4JK…</td><td>&quot;L7GW3TDV5IDLGD…</td><td>&quot;diamond&quot;</td><td>2023-02-01</td><td>&quot;PW:KA_012804&quot;</td><td>532.0</td><td>532.0</td></tr><tr><td>&quot;46FGY4ZP5JYWBQ…</td><td>&quot;7GIE545H75URRC…</td><td>&quot;diamond&quot;</td><td>2023-02-01</td><td>&quot;PW:KA_017096&quot;</td><td>532.0</td><td>532.0</td></tr><tr><td>&quot;BGTP6JT7NQQ4JK…</td><td>&quot;4EA7GS6ILRFDXW…</td><td>&quot;diamond&quot;</td><td>2023-02-01</td><td>&quot;PW:TU_000114&quot;</td><td>532.0</td><td>532.0</td></tr><tr><td>&quot;BGTP6JT7NQQ4JK…</td><td>&quot;ZFS64B5ON7CHFX…</td><td>&quot;diamond&quot;</td><td>2023-02-01</td><td>&quot;PW:AQ_006229&quot;</td><td>1330.0</td><td>1330.0</td></tr><tr><td>&quot;BGTP6JT7NQQ4JK…</td><td>&quot;UOY5Y2FF32YIL3…</td><td>&quot;diamond&quot;</td><td>2023-02-01</td><td>&quot;PW:AB_016362&quot;</td><td>266.0</td><td>266.0</td></tr><tr><td>&quot;2SJIZSNHCMROXR…</td><td>&quot;NGSKFFPFETUOMR…</td><td>&quot;diamond&quot;</td><td>2023-02-01</td><td>&quot;PW:KA_017740&quot;</td><td>532.0</td><td>532.0</td></tr><tr><td>&quot;KD6PQYS4AIROWC…</td><td>&quot;LQ2BBJUBNK64JU…</td><td>&quot;diamond&quot;</td><td>2023-02-01</td><td>&quot;PW:KA_004815&quot;</td><td>532.0</td><td>532.0</td></tr><tr><td>&quot;2SJIZSNHCMROXR…</td><td>&quot;N4LE5BODGSM7WY…</td><td>&quot;diamond&quot;</td><td>2023-02-01</td><td>&quot;PW:AQ_000435&quot;</td><td>1330.0</td><td>1330.0</td></tr><tr><td>&quot;X6OFLMQ6O7EL3W…</td><td>&quot;YEU3Q6RFTTZE7E…</td><td>&quot;diamond&quot;</td><td>2023-02-01</td><td>&quot;PW:AB_016080&quot;</td><td>266.0</td><td>266.0</td></tr></tbody></table></div>"
      ],
      "text/plain": [
       "shape: (592_395, 7)\n",
       "┌──────────────┬──────────────┬──────────┬──────────────┬──────────────┬─────────────┬─────────────┐\n",
       "│ accountAddre ┆ stakeTransac ┆ category ┆ stakeTransac ┆ deviceId     ┆ hodler_prog ┆ total_from_ │\n",
       "│ ss           ┆ tionId       ┆ ---      ┆ tionDate     ┆ ---          ┆ ram         ┆ the_beginni │\n",
       "│ ---          ┆ ---          ┆ str      ┆ ---          ┆ str          ┆ ---         ┆ ng          │\n",
       "│ str          ┆ str          ┆          ┆ date         ┆              ┆ f64         ┆ ---         │\n",
       "│              ┆              ┆          ┆              ┆              ┆             ┆ f64         │\n",
       "╞══════════════╪══════════════╪══════════╪══════════════╪══════════════╪═════════════╪═════════════╡\n",
       "│ GQK6DACLOBA6 ┆ HCFTXFQF3QAD ┆ silver   ┆ 2023-09-24   ┆ PW:AB_003082 ┆ 26.6        ┆ 5985.0      │\n",
       "│ 5KCUQPURBRKT ┆ RNFZTQUO5W7R ┆          ┆              ┆              ┆             ┆             │\n",
       "│ 5HW352KF…    ┆ G2RG42TX…    ┆          ┆              ┆              ┆             ┆             │\n",
       "│ OOBP5DJRMALY ┆ BTRKPJXODUUN ┆ diamond  ┆ 2023-09-24   ┆ PW:AB_015965 ┆ 266.0       ┆ 60648.0     │\n",
       "│ TJKZBOVR3DQL ┆ RVSJALWCLEGD ┆          ┆              ┆              ┆             ┆             │\n",
       "│ E2QZSNSN…    ┆ LNNJWL7L…    ┆          ┆              ┆              ┆             ┆             │\n",
       "│ OOBP5DJRMALY ┆ R7JMRYTK7SOP ┆ diamond  ┆ 2023-09-24   ┆ PW:AB_028048 ┆ 266.0       ┆ 56658.0     │\n",
       "│ TJKZBOVR3DQL ┆ FOQZWDRMDXIH ┆          ┆              ┆              ┆             ┆             │\n",
       "│ E2QZSNSN…    ┆ MMI6YC4P…    ┆          ┆              ┆              ┆             ┆             │\n",
       "│ Y4OFYXBM45HO ┆ AS34SJ3I33X2 ┆ silver   ┆ 2023-09-24   ┆ PW:KA_013602 ┆ 53.2        ┆ 8937.6      │\n",
       "│ KBZDI6VCGSVK ┆ 2RCEHXWRQKKS ┆          ┆              ┆              ┆             ┆             │\n",
       "│ OG35DAX7…    ┆ NVQACRAK…    ┆          ┆              ┆              ┆             ┆             │\n",
       "│ …            ┆ …            ┆ …        ┆ …            ┆ …            ┆ …           ┆ …           │\n",
       "│ 2SJIZSNHCMRO ┆ NGSKFFPFETUO ┆ diamond  ┆ 2023-02-01   ┆ PW:KA_017740 ┆ 532.0       ┆ 532.0       │\n",
       "│ XRK6VY7U2BAC ┆ MRLRFE2A4FV2 ┆          ┆              ┆              ┆             ┆             │\n",
       "│ XQFUA4XG…    ┆ HIIT5OWW…    ┆          ┆              ┆              ┆             ┆             │\n",
       "│ KD6PQYS4AIRO ┆ LQ2BBJUBNK64 ┆ diamond  ┆ 2023-02-01   ┆ PW:KA_004815 ┆ 532.0       ┆ 532.0       │\n",
       "│ WCOSXG3YYE4P ┆ JUM5ELTKBMUQ ┆          ┆              ┆              ┆             ┆             │\n",
       "│ KPRR54AG…    ┆ OMAWXOMX…    ┆          ┆              ┆              ┆             ┆             │\n",
       "│ 2SJIZSNHCMRO ┆ N4LE5BODGSM7 ┆ diamond  ┆ 2023-02-01   ┆ PW:AQ_000435 ┆ 1330.0      ┆ 1330.0      │\n",
       "│ XRK6VY7U2BAC ┆ WY3PEOZLW6UH ┆          ┆              ┆              ┆             ┆             │\n",
       "│ XQFUA4XG…    ┆ UTATSNX4…    ┆          ┆              ┆              ┆             ┆             │\n",
       "│ X6OFLMQ6O7EL ┆ YEU3Q6RFTTZE ┆ diamond  ┆ 2023-02-01   ┆ PW:AB_016080 ┆ 266.0       ┆ 266.0       │\n",
       "│ 3WVJ7JZ6JMZV ┆ 7EJ74K43C67C ┆          ┆              ┆              ┆             ┆             │\n",
       "│ B6AOOWPP…    ┆ HKUYIEDS…    ┆          ┆              ┆              ┆             ┆             │\n",
       "└──────────────┴──────────────┴──────────┴──────────────┴──────────────┴─────────────┴─────────────┘"
      ]
     },
     "execution_count": 13,
     "metadata": {},
     "output_type": "execute_result"
    }
   ],
   "source": [
    "combined_staked_df = pl.DataFrame._read_json(staking_transactions_cleaned + \"cleaned_staked_pages.json\")\n",
    "combined_staked_df"
   ]
  },
  {
   "cell_type": "code",
   "execution_count": 14,
   "metadata": {},
   "outputs": [
    {
     "data": {
      "text/html": [
       "<div><style>\n",
       ".dataframe > thead > tr > th,\n",
       ".dataframe > tbody > tr > td {\n",
       "  text-align: right;\n",
       "}\n",
       "</style>\n",
       "<small>shape: (1_320, 2)</small><table border=\"1\" class=\"dataframe\"><thead><tr><th>accountAddress</th><th>balance</th></tr><tr><td>str</td><td>f64</td></tr></thead><tbody><tr><td>&quot;GQK6DACLOBA65K…</td><td>31416.140747</td></tr><tr><td>&quot;OOBP5DJRMALYTJ…</td><td>141578.554582</td></tr><tr><td>&quot;Y4OFYXBM45HOKB…</td><td>91033.423266</td></tr><tr><td>&quot;HFPCVESO2XLDIG…</td><td>560010.000079</td></tr><tr><td>&quot;BYUO2RMTBOD7DM…</td><td>114270.443206</td></tr><tr><td>&quot;MAXNP7LVUX7MHD…</td><td>487241.459024</td></tr><tr><td>&quot;PFTV6AASEGBJYA…</td><td>1.0005e6</td></tr><tr><td>&quot;TEFHFBWCW32D7E…</td><td>273564.839999</td></tr><tr><td>&quot;U3MYXYWZCYLXG5…</td><td>2.94365e6</td></tr><tr><td>&quot;Q3QXHGWXJZGEWL…</td><td>98144.203435</td></tr><tr><td>&quot;UNZMIO2LTFE64S…</td><td>789644.31163</td></tr><tr><td>&quot;WYU5AYP526T5Y4…</td><td>607297.940099</td></tr><tr><td>&hellip;</td><td>&hellip;</td></tr><tr><td>&quot;GQM6MKUBNURN4F…</td><td>137.8056</td></tr><tr><td>&quot;V7WBI6US5DC2AN…</td><td>2176.574186</td></tr><tr><td>&quot;XUY7Z43CN5XJIU…</td><td>0.0</td></tr><tr><td>&quot;MXZJRIVWGWJKME…</td><td>4713.3696</td></tr><tr><td>&quot;TO7UIYBNANYW53…</td><td>0.0</td></tr><tr><td>&quot;M4Q2DJURYT4PZY…</td><td>0.0</td></tr><tr><td>&quot;D3ZTRVWMZJHEFH…</td><td>0.0</td></tr><tr><td>&quot;LEXR4ORPSG4REB…</td><td>0.0</td></tr><tr><td>&quot;UOLFJ3IESKOJQF…</td><td>11899.52</td></tr><tr><td>&quot;WXLGXPJGP3TPYZ…</td><td>0.0</td></tr><tr><td>&quot;MLTQLCL6RQMKPD…</td><td>0.0</td></tr><tr><td>&quot;O72JX6FGUNYARA…</td><td>15.04</td></tr></tbody></table></div>"
      ],
      "text/plain": [
       "shape: (1_320, 2)\n",
       "┌───────────────────────────────────┬───────────────┐\n",
       "│ accountAddress                    ┆ balance       │\n",
       "│ ---                               ┆ ---           │\n",
       "│ str                               ┆ f64           │\n",
       "╞═══════════════════════════════════╪═══════════════╡\n",
       "│ GQK6DACLOBA65KCUQPURBRKT5HW352KF… ┆ 31416.140747  │\n",
       "│ OOBP5DJRMALYTJKZBOVR3DQLE2QZSNSN… ┆ 141578.554582 │\n",
       "│ Y4OFYXBM45HOKBZDI6VCGSVKOG35DAX7… ┆ 91033.423266  │\n",
       "│ HFPCVESO2XLDIGYEYHKOS27RJ63SUIKS… ┆ 560010.000079 │\n",
       "│ …                                 ┆ …             │\n",
       "│ UOLFJ3IESKOJQFMBJFTW5YSHUH7UJGNE… ┆ 11899.52      │\n",
       "│ WXLGXPJGP3TPYZK2X5X7EATBJCZBNS2K… ┆ 0.0           │\n",
       "│ MLTQLCL6RQMKPDACUIILLV5YPRM7IJFF… ┆ 0.0           │\n",
       "│ O72JX6FGUNYARAY64NXQPGV33KQCMEWZ… ┆ 15.04         │\n",
       "└───────────────────────────────────┴───────────────┘"
      ]
     },
     "execution_count": 14,
     "metadata": {},
     "output_type": "execute_result"
    }
   ],
   "source": [
    "combined_staked_account_df = pl.DataFrame._read_json(staked_accounts_cleaned + \"cleaned_staked_accounts.json\")\n",
    "combined_staked_account_df"
   ]
  },
  {
   "cell_type": "code",
   "execution_count": 15,
   "metadata": {},
   "outputs": [
    {
     "data": {
      "text/html": [
       "<div><style>\n",
       ".dataframe > thead > tr > th,\n",
       ".dataframe > tbody > tr > td {\n",
       "  text-align: right;\n",
       "}\n",
       "</style>\n",
       "<small>shape: (1_469_829, 11)</small><table border=\"1\" class=\"dataframe\"><thead><tr><th>amount</th><th>accountAddress</th><th>sensorTransactionId</th><th>date</th><th>streams</th><th>deviceId</th><th>type</th><th>localScore</th><th>globalScore</th><th>status</th><th>tier</th></tr><tr><td>f64</td><td>str</td><td>str</td><td>date</td><td>i64</td><td>str</td><td>str</td><td>i64</td><td>i64</td><td>str</td><td>str</td></tr></thead><tbody><tr><td>11.712</td><td>&quot;BR55CBEWTQXNVY…</td><td>&quot;CTIICLAVP2SBVF…</td><td>2023-09-24</td><td>366</td><td>&quot;PW:AB_001553&quot;</td><td>&quot;4&quot;</td><td>357</td><td>357</td><td>null</td><td>null</td></tr><tr><td>2.928</td><td>&quot;LSAHUHHFNBWVSQ…</td><td>&quot;MS3DIR5HORQNPC…</td><td>2023-09-24</td><td>366</td><td>&quot;PW:AB_001553&quot;</td><td>&quot;4&quot;</td><td>357</td><td>357</td><td>null</td><td>null</td></tr><tr><td>15.904</td><td>&quot;VFDFKPZQS6GP7V…</td><td>&quot;OXOY2JCA3KE7JW…</td><td>2023-09-24</td><td>497</td><td>&quot;PW:AB_003396&quot;</td><td>&quot;4&quot;</td><td>599</td><td>599</td><td>null</td><td>null</td></tr><tr><td>3.976</td><td>&quot;LSAHUHHFNBWVSQ…</td><td>&quot;VDAF4SVWHNWJ26…</td><td>2023-09-24</td><td>497</td><td>&quot;PW:AB_003396&quot;</td><td>&quot;4&quot;</td><td>599</td><td>599</td><td>null</td><td>null</td></tr><tr><td>14.08</td><td>&quot;REEJWQX7T54PJS…</td><td>&quot;2HTAVUL7T4N2S2…</td><td>2023-09-24</td><td>440</td><td>&quot;PW:AB_010622&quot;</td><td>&quot;4&quot;</td><td>607</td><td>607</td><td>null</td><td>null</td></tr><tr><td>3.52</td><td>&quot;LSAHUHHFNBWVSQ…</td><td>&quot;NK35OT65EQCF6T…</td><td>2023-09-24</td><td>440</td><td>&quot;PW:AB_010622&quot;</td><td>&quot;4&quot;</td><td>607</td><td>607</td><td>null</td><td>null</td></tr><tr><td>12.064</td><td>&quot;WYOODKLS2HNPFA…</td><td>&quot;5MWJGM3UJBHMYR…</td><td>2023-09-24</td><td>377</td><td>&quot;PW:AB_004269&quot;</td><td>&quot;4&quot;</td><td>702</td><td>702</td><td>null</td><td>null</td></tr><tr><td>3.016</td><td>&quot;LSAHUHHFNBWVSQ…</td><td>&quot;R7QPHHZX4Z7RLL…</td><td>2023-09-24</td><td>377</td><td>&quot;PW:AB_004269&quot;</td><td>&quot;4&quot;</td><td>702</td><td>702</td><td>null</td><td>null</td></tr><tr><td>15.488</td><td>&quot;3UDL7GFUQ35Z3H…</td><td>&quot;PFMJLIKPX5VVBI…</td><td>2023-09-24</td><td>484</td><td>&quot;PW:AB_027763&quot;</td><td>&quot;4&quot;</td><td>202</td><td>202</td><td>null</td><td>null</td></tr><tr><td>3.872</td><td>&quot;LSAHUHHFNBWVSQ…</td><td>&quot;2CRYFBFO6U5PUD…</td><td>2023-09-24</td><td>484</td><td>&quot;PW:AB_027763&quot;</td><td>&quot;4&quot;</td><td>202</td><td>202</td><td>null</td><td>null</td></tr><tr><td>16.096</td><td>&quot;B3AHXZUMK5H2UW…</td><td>&quot;DX6TZRUZ5CVPXP…</td><td>2023-09-24</td><td>503</td><td>&quot;PW:AB_002694&quot;</td><td>&quot;4&quot;</td><td>768</td><td>768</td><td>null</td><td>null</td></tr><tr><td>4.024</td><td>&quot;LSAHUHHFNBWVSQ…</td><td>&quot;C76GMOYSOPDMJL…</td><td>2023-09-24</td><td>503</td><td>&quot;PW:AB_002694&quot;</td><td>&quot;4&quot;</td><td>768</td><td>768</td><td>null</td><td>null</td></tr><tr><td>&hellip;</td><td>&hellip;</td><td>&hellip;</td><td>&hellip;</td><td>&hellip;</td><td>&hellip;</td><td>&hellip;</td><td>&hellip;</td><td>&hellip;</td><td>&hellip;</td><td>&hellip;</td></tr><tr><td>133.3248</td><td>&quot;VJ6CID7FF4Z4SM…</td><td>&quot;ZSA32VPS7GYWZ7…</td><td>2023-02-01</td><td>96</td><td>&quot;PW:AQ_002516&quot;</td><td>&quot;1&quot;</td><td>416</td><td>416</td><td>&quot;L&quot;</td><td>&quot;1&quot;</td></tr><tr><td>33.3312</td><td>&quot;LSAHUHHFNBWVSQ…</td><td>&quot;NXURT6PVKJY4Z2…</td><td>2023-02-01</td><td>96</td><td>&quot;PW:AQ_002516&quot;</td><td>&quot;1&quot;</td><td>416</td><td>416</td><td>&quot;L&quot;</td><td>&quot;1&quot;</td></tr><tr><td>133.3248</td><td>&quot;25U4Z4FFIZZZAX…</td><td>&quot;V6CZWP23YB7CZQ…</td><td>2023-02-01</td><td>96</td><td>&quot;PW:AQ_003137&quot;</td><td>&quot;1&quot;</td><td>494</td><td>494</td><td>&quot;L&quot;</td><td>&quot;1&quot;</td></tr><tr><td>33.3312</td><td>&quot;LSAHUHHFNBWVSQ…</td><td>&quot;TDART6B5GJOEOH…</td><td>2023-02-01</td><td>96</td><td>&quot;PW:AQ_003137&quot;</td><td>&quot;1&quot;</td><td>494</td><td>494</td><td>&quot;L&quot;</td><td>&quot;1&quot;</td></tr><tr><td>129.1584</td><td>&quot;BKX6CDNO4NV6XW…</td><td>&quot;EC7JBB3EFNTZY4…</td><td>2023-02-01</td><td>93</td><td>&quot;PW:AQ_002567&quot;</td><td>&quot;1&quot;</td><td>23</td><td>188</td><td>&quot;L&quot;</td><td>&quot;1&quot;</td></tr><tr><td>32.2896</td><td>&quot;LSAHUHHFNBWVSQ…</td><td>&quot;I4A3K5D7YNK2DU…</td><td>2023-02-01</td><td>93</td><td>&quot;PW:AQ_002567&quot;</td><td>&quot;1&quot;</td><td>23</td><td>188</td><td>&quot;L&quot;</td><td>&quot;1&quot;</td></tr><tr><td>133.3248</td><td>&quot;3FANFVUZEFAXKZ…</td><td>&quot;Z2JVNGAO3DXR2U…</td><td>2023-02-01</td><td>96</td><td>&quot;PW:AQ_004034&quot;</td><td>&quot;1&quot;</td><td>471</td><td>471</td><td>&quot;L&quot;</td><td>&quot;1&quot;</td></tr><tr><td>33.3312</td><td>&quot;LSAHUHHFNBWVSQ…</td><td>&quot;POQWYZUJPBZFTS…</td><td>2023-02-01</td><td>96</td><td>&quot;PW:AQ_004034&quot;</td><td>&quot;1&quot;</td><td>471</td><td>471</td><td>&quot;L&quot;</td><td>&quot;1&quot;</td></tr><tr><td>119.99232</td><td>&quot;23VNDIXKWGWHUH…</td><td>&quot;5KKEYHDLUGN3DL…</td><td>2023-02-01</td><td>96</td><td>&quot;PW:AQ_003835&quot;</td><td>&quot;1&quot;</td><td>129</td><td>129</td><td>&quot;L&quot;</td><td>&quot;1&quot;</td></tr><tr><td>29.99808</td><td>&quot;LSAHUHHFNBWVSQ…</td><td>&quot;ZQ7P2DEIS4KCSP…</td><td>2023-02-01</td><td>96</td><td>&quot;PW:AQ_003835&quot;</td><td>&quot;1&quot;</td><td>129</td><td>129</td><td>&quot;L&quot;</td><td>&quot;1&quot;</td></tr><tr><td>133.3248</td><td>&quot;IFO7MBGUMZBEG7…</td><td>&quot;MEJRJMCJSYOAUP…</td><td>2023-02-01</td><td>96</td><td>&quot;PW:AQ_004785&quot;</td><td>&quot;1&quot;</td><td>430</td><td>430</td><td>&quot;L&quot;</td><td>&quot;1&quot;</td></tr><tr><td>33.3312</td><td>&quot;LSAHUHHFNBWVSQ…</td><td>&quot;5RSLNXD5TNCGMW…</td><td>2023-02-01</td><td>96</td><td>&quot;PW:AQ_004785&quot;</td><td>&quot;1&quot;</td><td>430</td><td>430</td><td>&quot;L&quot;</td><td>&quot;1&quot;</td></tr></tbody></table></div>"
      ],
      "text/plain": [
       "shape: (1_469_829, 11)\n",
       "┌───────────┬─────────────┬─────────────┬────────────┬───┬────────────┬────────────┬────────┬──────┐\n",
       "│ amount    ┆ accountAddr ┆ sensorTrans ┆ date       ┆ … ┆ localScore ┆ globalScor ┆ status ┆ tier │\n",
       "│ ---       ┆ ess         ┆ actionId    ┆ ---        ┆   ┆ ---        ┆ e          ┆ ---    ┆ ---  │\n",
       "│ f64       ┆ ---         ┆ ---         ┆ date       ┆   ┆ i64        ┆ ---        ┆ str    ┆ str  │\n",
       "│           ┆ str         ┆ str         ┆            ┆   ┆            ┆ i64        ┆        ┆      │\n",
       "╞═══════════╪═════════════╪═════════════╪════════════╪═══╪════════════╪════════════╪════════╪══════╡\n",
       "│ 11.712    ┆ BR55CBEWTQX ┆ CTIICLAVP2S ┆ 2023-09-24 ┆ … ┆ 357        ┆ 357        ┆ null   ┆ null │\n",
       "│           ┆ NVY6AUITVCX ┆ BVFYRZ4I2SD ┆            ┆   ┆            ┆            ┆        ┆      │\n",
       "│           ┆ QZXHD7IDNL… ┆ SIFU6MOXWG… ┆            ┆   ┆            ┆            ┆        ┆      │\n",
       "│ 2.928     ┆ LSAHUHHFNBW ┆ MS3DIR5HORQ ┆ 2023-09-24 ┆ … ┆ 357        ┆ 357        ┆ null   ┆ null │\n",
       "│           ┆ VSQFT55KT7T ┆ NPCHMA6Z3VW ┆            ┆   ┆            ┆            ┆        ┆      │\n",
       "│           ┆ JBQI7FAMCU… ┆ 2EKWA5G7OZ… ┆            ┆   ┆            ┆            ┆        ┆      │\n",
       "│ 15.904    ┆ VFDFKPZQS6G ┆ OXOY2JCA3KE ┆ 2023-09-24 ┆ … ┆ 599        ┆ 599        ┆ null   ┆ null │\n",
       "│           ┆ P7VLOMAFTI5 ┆ 7JWYES5CD7E ┆            ┆   ┆            ┆            ┆        ┆      │\n",
       "│           ┆ EMVLT77W5P… ┆ KVG4ZV22BD… ┆            ┆   ┆            ┆            ┆        ┆      │\n",
       "│ 3.976     ┆ LSAHUHHFNBW ┆ VDAF4SVWHNW ┆ 2023-09-24 ┆ … ┆ 599        ┆ 599        ┆ null   ┆ null │\n",
       "│           ┆ VSQFT55KT7T ┆ J26F52KY7FU ┆            ┆   ┆            ┆            ┆        ┆      │\n",
       "│           ┆ JBQI7FAMCU… ┆ 2NL645SPSE… ┆            ┆   ┆            ┆            ┆        ┆      │\n",
       "│ …         ┆ …           ┆ …           ┆ …          ┆ … ┆ …          ┆ …          ┆ …      ┆ …    │\n",
       "│ 119.99232 ┆ 23VNDIXKWGW ┆ 5KKEYHDLUGN ┆ 2023-02-01 ┆ … ┆ 129        ┆ 129        ┆ L      ┆ 1    │\n",
       "│           ┆ HUHPZM3ZUSO ┆ 3DLU6BISEJN ┆            ┆   ┆            ┆            ┆        ┆      │\n",
       "│           ┆ EIHN4PFYHA… ┆ 2BHNLBD3RR… ┆            ┆   ┆            ┆            ┆        ┆      │\n",
       "│ 29.99808  ┆ LSAHUHHFNBW ┆ ZQ7P2DEIS4K ┆ 2023-02-01 ┆ … ┆ 129        ┆ 129        ┆ L      ┆ 1    │\n",
       "│           ┆ VSQFT55KT7T ┆ CSPQABLS5ED ┆            ┆   ┆            ┆            ┆        ┆      │\n",
       "│           ┆ JBQI7FAMCU… ┆ UMVAUIRUMF… ┆            ┆   ┆            ┆            ┆        ┆      │\n",
       "│ 133.3248  ┆ IFO7MBGUMZB ┆ MEJRJMCJSYO ┆ 2023-02-01 ┆ … ┆ 430        ┆ 430        ┆ L      ┆ 1    │\n",
       "│           ┆ EG7FSTRJTYN ┆ AUPAOI5DDMP ┆            ┆   ┆            ┆            ┆        ┆      │\n",
       "│           ┆ UIQLLBAMTJ… ┆ 65IUJGAOGR… ┆            ┆   ┆            ┆            ┆        ┆      │\n",
       "│ 33.3312   ┆ LSAHUHHFNBW ┆ 5RSLNXD5TNC ┆ 2023-02-01 ┆ … ┆ 430        ┆ 430        ┆ L      ┆ 1    │\n",
       "│           ┆ VSQFT55KT7T ┆ GMWUZ4S6K5X ┆            ┆   ┆            ┆            ┆        ┆      │\n",
       "│           ┆ JBQI7FAMCU… ┆ BXKXH4PJTA… ┆            ┆   ┆            ┆            ┆        ┆      │\n",
       "└───────────┴─────────────┴─────────────┴────────────┴───┴────────────┴────────────┴────────┴──────┘"
      ]
     },
     "execution_count": 15,
     "metadata": {},
     "output_type": "execute_result"
    }
   ],
   "source": [
    "combined_transact_df = pl.DataFrame._read_json(sensor_transactions_cleaned + \"transactions_cleaned.json\")\n",
    "combined_transact_df"
   ]
  },
  {
   "cell_type": "code",
   "execution_count": 16,
   "metadata": {},
   "outputs": [
    {
     "data": {
      "text/html": [
       "<div><style>\n",
       ".dataframe > thead > tr > th,\n",
       ".dataframe > tbody > tr > td {\n",
       "  text-align: right;\n",
       "}\n",
       "</style>\n",
       "<small>shape: (3_833, 7)</small><table border=\"1\" class=\"dataframe\"><thead><tr><th>accountAddress</th><th>stakeTransactionId</th><th>category</th><th>stakeTransactionDate</th><th>deviceId</th><th>hodler_program</th><th>total_from_the_beginning</th></tr><tr><td>str</td><td>str</td><td>str</td><td>date</td><td>str</td><td>f64</td><td>f64</td></tr></thead><tbody><tr><td>&quot;GQK6DACLOBA65K…</td><td>&quot;HCFTXFQF3QADRN…</td><td>&quot;silver&quot;</td><td>2023-09-24</td><td>&quot;PW:AB_003082&quot;</td><td>26.6</td><td>5985.0</td></tr><tr><td>&quot;OOBP5DJRMALYTJ…</td><td>&quot;BTRKPJXODUUNRV…</td><td>&quot;diamond&quot;</td><td>2023-09-24</td><td>&quot;PW:AB_015965&quot;</td><td>266.0</td><td>60648.0</td></tr><tr><td>&quot;OOBP5DJRMALYTJ…</td><td>&quot;R7JMRYTK7SOPFO…</td><td>&quot;diamond&quot;</td><td>2023-09-24</td><td>&quot;PW:AB_028048&quot;</td><td>266.0</td><td>56658.0</td></tr><tr><td>&quot;Y4OFYXBM45HOKB…</td><td>&quot;AS34SJ3I33X22R…</td><td>&quot;silver&quot;</td><td>2023-09-24</td><td>&quot;PW:KA_013602&quot;</td><td>53.2</td><td>8937.6</td></tr><tr><td>&quot;HFPCVESO2XLDIG…</td><td>&quot;NLC2BUZF7BPZXW…</td><td>&quot;diamond&quot;</td><td>2023-09-24</td><td>&quot;PW:AB_014402&quot;</td><td>266.0</td><td>54530.0</td></tr><tr><td>&quot;BYUO2RMTBOD7DM…</td><td>&quot;3GTG4ITDVBK5B3…</td><td>&quot;silver&quot;</td><td>2023-09-24</td><td>&quot;PW:AQ_007079&quot;</td><td>133.0</td><td>27265.0</td></tr><tr><td>&quot;BYUO2RMTBOD7DM…</td><td>&quot;E2RDPRFX3YMXSX…</td><td>&quot;silver&quot;</td><td>2023-09-24</td><td>&quot;PW:AQ_007067&quot;</td><td>133.0</td><td>23408.0</td></tr><tr><td>&quot;BYUO2RMTBOD7DM…</td><td>&quot;RQR65XYDRBDCK6…</td><td>&quot;silver&quot;</td><td>2023-09-24</td><td>&quot;PW:AQ_007062&quot;</td><td>133.0</td><td>30590.0</td></tr><tr><td>&quot;Y4OFYXBM45HOKB…</td><td>&quot;UGTUVA3Z3R6KWW…</td><td>&quot;gold&quot;</td><td>2023-09-24</td><td>&quot;PW:TU_000198&quot;</td><td>266.0</td><td>61446.0</td></tr><tr><td>&quot;HFPCVESO2XLDIG…</td><td>&quot;NKYMVOFM5SCDBN…</td><td>&quot;diamond&quot;</td><td>2023-09-24</td><td>&quot;PW:AQ_005569&quot;</td><td>1330.0</td><td>258685.0</td></tr><tr><td>&quot;MAXNP7LVUX7MHD…</td><td>&quot;Z6REHZW35X2Y4Z…</td><td>&quot;diamond&quot;</td><td>2023-09-24</td><td>&quot;PW:AB_016191&quot;</td><td>266.0</td><td>32611.6</td></tr><tr><td>&quot;HFPCVESO2XLDIG…</td><td>&quot;LWFXHKVHGOCFUR…</td><td>&quot;diamond&quot;</td><td>2023-09-24</td><td>&quot;PW:KA_018034&quot;</td><td>532.0</td><td>102995.2</td></tr><tr><td>&hellip;</td><td>&hellip;</td><td>&hellip;</td><td>&hellip;</td><td>&hellip;</td><td>&hellip;</td><td>&hellip;</td></tr><tr><td>&quot;WXLGXPJGP3TPYZ…</td><td>&quot;VUL64YPDNK7LF4…</td><td>&quot;silver&quot;</td><td>2023-02-04</td><td>&quot;PW:AQ_005111&quot;</td><td>133.0</td><td>532.0</td></tr><tr><td>&quot;WXLGXPJGP3TPYZ…</td><td>&quot;JDJMNJU4KLOFTJ…</td><td>&quot;silver&quot;</td><td>2023-02-04</td><td>&quot;PW:AQ_005113&quot;</td><td>133.0</td><td>532.0</td></tr><tr><td>&quot;WXLGXPJGP3TPYZ…</td><td>&quot;EOLINGC7PGOPAR…</td><td>&quot;silver&quot;</td><td>2023-02-04</td><td>&quot;PW:AQ_005138&quot;</td><td>133.0</td><td>532.0</td></tr><tr><td>&quot;WXLGXPJGP3TPYZ…</td><td>&quot;GOEVPQSNQGCAOZ…</td><td>&quot;silver&quot;</td><td>2023-02-04</td><td>&quot;PW:AQ_005165&quot;</td><td>133.0</td><td>532.0</td></tr><tr><td>&quot;WXLGXPJGP3TPYZ…</td><td>&quot;IPZ6WKWBQSWGLZ…</td><td>&quot;silver&quot;</td><td>2023-02-04</td><td>&quot;PW:AQ_005586&quot;</td><td>133.0</td><td>532.0</td></tr><tr><td>&quot;LGVKX52DQQM3S3…</td><td>&quot;QCO4G47LSMABHW…</td><td>&quot;diamond&quot;</td><td>2023-02-04</td><td>&quot;PW:KA_003035&quot;</td><td>532.0</td><td>532.0</td></tr><tr><td>&quot;MLTQLCL6RQMKPD…</td><td>&quot;IOMMA4VFR3WIB2…</td><td>&quot;silver&quot;</td><td>2023-02-03</td><td>&quot;PW:KA_002371&quot;</td><td>53.2</td><td>106.4</td></tr><tr><td>&quot;O72JX6FGUNYARA…</td><td>&quot;YVGWC4D7DCCRDH…</td><td>&quot;silver&quot;</td><td>2023-02-02</td><td>&quot;PW:AB_004184&quot;</td><td>26.6</td><td>53.2</td></tr><tr><td>&quot;KF25U5FKB2YF46…</td><td>&quot;AMAPNRDDW5PXDN…</td><td>&quot;silver&quot;</td><td>2023-02-02</td><td>&quot;PW:KA_007602&quot;</td><td>53.2</td><td>106.4</td></tr><tr><td>&quot;MLTQLCL6RQMKPD…</td><td>&quot;XTZVBJQOIJRKJW…</td><td>&quot;silver&quot;</td><td>2023-02-02</td><td>&quot;PW:KA_002307&quot;</td><td>53.2</td><td>53.2</td></tr><tr><td>&quot;MLTQLCL6RQMKPD…</td><td>&quot;FAYZG4TTM646YW…</td><td>&quot;silver&quot;</td><td>2023-02-02</td><td>&quot;PW:KA_002327&quot;</td><td>53.2</td><td>53.2</td></tr><tr><td>&quot;MXXCDNRV7INXRT…</td><td>&quot;6UCFVTDQGBP76J…</td><td>&quot;gold&quot;</td><td>2023-02-01</td><td>&quot;PW:KA_003416&quot;</td><td>266.0</td><td>266.0</td></tr></tbody></table></div>"
      ],
      "text/plain": [
       "shape: (3_833, 7)\n",
       "┌──────────────┬──────────────┬──────────┬──────────────┬──────────────┬─────────────┬─────────────┐\n",
       "│ accountAddre ┆ stakeTransac ┆ category ┆ stakeTransac ┆ deviceId     ┆ hodler_prog ┆ total_from_ │\n",
       "│ ss           ┆ tionId       ┆ ---      ┆ tionDate     ┆ ---          ┆ ram         ┆ the_beginni │\n",
       "│ ---          ┆ ---          ┆ str      ┆ ---          ┆ str          ┆ ---         ┆ ng          │\n",
       "│ str          ┆ str          ┆          ┆ date         ┆              ┆ f64         ┆ ---         │\n",
       "│              ┆              ┆          ┆              ┆              ┆             ┆ f64         │\n",
       "╞══════════════╪══════════════╪══════════╪══════════════╪══════════════╪═════════════╪═════════════╡\n",
       "│ GQK6DACLOBA6 ┆ HCFTXFQF3QAD ┆ silver   ┆ 2023-09-24   ┆ PW:AB_003082 ┆ 26.6        ┆ 5985.0      │\n",
       "│ 5KCUQPURBRKT ┆ RNFZTQUO5W7R ┆          ┆              ┆              ┆             ┆             │\n",
       "│ 5HW352KF…    ┆ G2RG42TX…    ┆          ┆              ┆              ┆             ┆             │\n",
       "│ OOBP5DJRMALY ┆ BTRKPJXODUUN ┆ diamond  ┆ 2023-09-24   ┆ PW:AB_015965 ┆ 266.0       ┆ 60648.0     │\n",
       "│ TJKZBOVR3DQL ┆ RVSJALWCLEGD ┆          ┆              ┆              ┆             ┆             │\n",
       "│ E2QZSNSN…    ┆ LNNJWL7L…    ┆          ┆              ┆              ┆             ┆             │\n",
       "│ OOBP5DJRMALY ┆ R7JMRYTK7SOP ┆ diamond  ┆ 2023-09-24   ┆ PW:AB_028048 ┆ 266.0       ┆ 56658.0     │\n",
       "│ TJKZBOVR3DQL ┆ FOQZWDRMDXIH ┆          ┆              ┆              ┆             ┆             │\n",
       "│ E2QZSNSN…    ┆ MMI6YC4P…    ┆          ┆              ┆              ┆             ┆             │\n",
       "│ Y4OFYXBM45HO ┆ AS34SJ3I33X2 ┆ silver   ┆ 2023-09-24   ┆ PW:KA_013602 ┆ 53.2        ┆ 8937.6      │\n",
       "│ KBZDI6VCGSVK ┆ 2RCEHXWRQKKS ┆          ┆              ┆              ┆             ┆             │\n",
       "│ OG35DAX7…    ┆ NVQACRAK…    ┆          ┆              ┆              ┆             ┆             │\n",
       "│ …            ┆ …            ┆ …        ┆ …            ┆ …            ┆ …           ┆ …           │\n",
       "│ KF25U5FKB2YF ┆ AMAPNRDDW5PX ┆ silver   ┆ 2023-02-02   ┆ PW:KA_007602 ┆ 53.2        ┆ 106.4       │\n",
       "│ 46YHD5VUEEGI ┆ DNVECCW2RM7O ┆          ┆              ┆              ┆             ┆             │\n",
       "│ EO2KXTG5…    ┆ MDBNDNSE…    ┆          ┆              ┆              ┆             ┆             │\n",
       "│ MLTQLCL6RQMK ┆ XTZVBJQOIJRK ┆ silver   ┆ 2023-02-02   ┆ PW:KA_002307 ┆ 53.2        ┆ 53.2        │\n",
       "│ PDACUIILLV5Y ┆ JWYK6FMJDFG5 ┆          ┆              ┆              ┆             ┆             │\n",
       "│ PRM7IJFF…    ┆ DET3CGGP…    ┆          ┆              ┆              ┆             ┆             │\n",
       "│ MLTQLCL6RQMK ┆ FAYZG4TTM646 ┆ silver   ┆ 2023-02-02   ┆ PW:KA_002327 ┆ 53.2        ┆ 53.2        │\n",
       "│ PDACUIILLV5Y ┆ YWTJISNOUWPV ┆          ┆              ┆              ┆             ┆             │\n",
       "│ PRM7IJFF…    ┆ 252E6RSP…    ┆          ┆              ┆              ┆             ┆             │\n",
       "│ MXXCDNRV7INX ┆ 6UCFVTDQGBP7 ┆ gold     ┆ 2023-02-01   ┆ PW:KA_003416 ┆ 266.0       ┆ 266.0       │\n",
       "│ RTCZM2WQXM3W ┆ 6JZPYIPDL5IN ┆          ┆              ┆              ┆             ┆             │\n",
       "│ XRQTWK5P…    ┆ WLCSHQYB…    ┆          ┆              ┆              ┆             ┆             │\n",
       "└──────────────┴──────────────┴──────────┴──────────────┴──────────────┴─────────────┴─────────────┘"
      ]
     },
     "execution_count": 16,
     "metadata": {},
     "output_type": "execute_result"
    }
   ],
   "source": [
    "unique_device_IDs = combined_staked_df.unique(\"deviceId\", maintain_order=True)\n",
    "hodler_vals = [row[\"hodler_program\"] for row in unique_device_IDs.iter_rows(named=True)]\n",
    "category_vals = [row[\"category\"] for row in unique_device_IDs.iter_rows(named=True)]\n",
    "deviceID_vals = [row[\"deviceId\"] for row in unique_device_IDs.iter_rows(named=True)]\n",
    "\n",
    "unique_device_IDs"
   ]
  },
  {
   "cell_type": "code",
   "execution_count": 17,
   "metadata": {},
   "outputs": [],
   "source": [
    "# Creation of staking rewerd tiers via external data not present in API calls (found at https://www.planetwatch.io/hodler-program/)\n",
    "\n",
    "device_types = []\n",
    "missing_sensor_address = []\n",
    "\n",
    "for i in range(len(unique_device_IDs)):\n",
    "    if hodler_vals[i] == 26.6 and category_vals[i] == \"silver\":\n",
    "        device_types.append(\"4\")\n",
    "    if hodler_vals[i] == 53.2 and category_vals[i] == \"silver\":\n",
    "        try:\n",
    "            current_ID = combined_transact_df.filter(pl.col(\"deviceId\") == deviceID_vals[i])\n",
    "            device_types.append([row[\"type\"] for row in current_ID.iter_rows(named=True)][0])\n",
    "        except:\n",
    "            missing_sensor_address.append(deviceID_vals[i])\n",
    "    if hodler_vals[i] == 133.0 and category_vals[i] == \"silver\":\n",
    "        device_types.append(\"1\")\n",
    "    if hodler_vals[i] == 133.0 and category_vals[i] == \"gold\":\n",
    "        device_types.append(\"4\")\n",
    "    if hodler_vals[i] == 266.0 and category_vals[i] == \"gold\":\n",
    "        try:\n",
    "            current_ID = combined_transact_df.filter(pl.col(\"deviceId\") == deviceID_vals[i])\n",
    "            device_types.append([row[\"type\"] for row in current_ID.iter_rows(named=True)][0])\n",
    "        except:\n",
    "            missing_sensor_address.append(deviceID_vals[i])\n",
    "    if hodler_vals[i] == 665.0 and category_vals[i] == \"gold\":\n",
    "        device_types.append(\"1\")\n",
    "    if hodler_vals[i] == 266.0 and category_vals[i] == \"diamond\":\n",
    "        device_types.append(\"4\")\n",
    "    if hodler_vals[i] == 532.0 and category_vals[i] == \"diamond\":\n",
    "        try:\n",
    "            current_ID = combined_transact_df.filter(pl.col(\"deviceId\") == deviceID_vals[i])\n",
    "            device_types.append([row[\"type\"] for row in current_ID.iter_rows(named=True)][0])\n",
    "        except:\n",
    "            missing_sensor_address.append(deviceID_vals[i])\n",
    "    if hodler_vals[i] == 1330.0 and category_vals[i] == \"diamond\":\n",
    "        device_types.append(\"1\")    "
   ]
  },
  {
   "cell_type": "code",
   "execution_count": 18,
   "metadata": {},
   "outputs": [
    {
     "data": {
      "text/html": [
       "<div><style>\n",
       ".dataframe > thead > tr > th,\n",
       ".dataframe > tbody > tr > td {\n",
       "  text-align: right;\n",
       "}\n",
       "</style>\n",
       "<small>shape: (3_833, 6)</small><table border=\"1\" class=\"dataframe\"><thead><tr><th>deviceId</th><th>accountAddress</th><th>balance</th><th>total_from_the_beginning</th><th>category</th><th>type</th></tr><tr><td>str</td><td>str</td><td>f64</td><td>f64</td><td>str</td><td>str</td></tr></thead><tbody><tr><td>&quot;PW:AB_003082&quot;</td><td>&quot;GQK6DACLOBA65K…</td><td>31416.140747</td><td>5985.0</td><td>&quot;silver&quot;</td><td>&quot;4&quot;</td></tr><tr><td>&quot;PW:AB_015965&quot;</td><td>&quot;OOBP5DJRMALYTJ…</td><td>141578.554582</td><td>60648.0</td><td>&quot;diamond&quot;</td><td>&quot;4&quot;</td></tr><tr><td>&quot;PW:AB_028048&quot;</td><td>&quot;OOBP5DJRMALYTJ…</td><td>141578.554582</td><td>56658.0</td><td>&quot;diamond&quot;</td><td>&quot;4&quot;</td></tr><tr><td>&quot;PW:KA_013602&quot;</td><td>&quot;Y4OFYXBM45HOKB…</td><td>91033.423266</td><td>8937.6</td><td>&quot;silver&quot;</td><td>&quot;3&quot;</td></tr><tr><td>&quot;PW:AB_014402&quot;</td><td>&quot;HFPCVESO2XLDIG…</td><td>560010.000079</td><td>54530.0</td><td>&quot;diamond&quot;</td><td>&quot;4&quot;</td></tr><tr><td>&quot;PW:AQ_007079&quot;</td><td>&quot;BYUO2RMTBOD7DM…</td><td>114270.443206</td><td>27265.0</td><td>&quot;silver&quot;</td><td>&quot;1&quot;</td></tr><tr><td>&quot;PW:AQ_007067&quot;</td><td>&quot;BYUO2RMTBOD7DM…</td><td>114270.443206</td><td>23408.0</td><td>&quot;silver&quot;</td><td>&quot;1&quot;</td></tr><tr><td>&quot;PW:AQ_007062&quot;</td><td>&quot;BYUO2RMTBOD7DM…</td><td>114270.443206</td><td>30590.0</td><td>&quot;silver&quot;</td><td>&quot;1&quot;</td></tr><tr><td>&quot;PW:TU_000198&quot;</td><td>&quot;Y4OFYXBM45HOKB…</td><td>91033.423266</td><td>61446.0</td><td>&quot;gold&quot;</td><td>&quot;2&quot;</td></tr><tr><td>&quot;PW:AQ_005569&quot;</td><td>&quot;HFPCVESO2XLDIG…</td><td>560010.000079</td><td>258685.0</td><td>&quot;diamond&quot;</td><td>&quot;1&quot;</td></tr><tr><td>&quot;PW:AB_016191&quot;</td><td>&quot;MAXNP7LVUX7MHD…</td><td>487241.459024</td><td>32611.6</td><td>&quot;diamond&quot;</td><td>&quot;4&quot;</td></tr><tr><td>&quot;PW:KA_018034&quot;</td><td>&quot;HFPCVESO2XLDIG…</td><td>560010.000079</td><td>102995.2</td><td>&quot;diamond&quot;</td><td>&quot;3&quot;</td></tr><tr><td>&hellip;</td><td>&hellip;</td><td>&hellip;</td><td>&hellip;</td><td>&hellip;</td><td>&hellip;</td></tr><tr><td>&quot;PW:AQ_005111&quot;</td><td>&quot;WXLGXPJGP3TPYZ…</td><td>0.0</td><td>532.0</td><td>&quot;silver&quot;</td><td>&quot;1&quot;</td></tr><tr><td>&quot;PW:AQ_005113&quot;</td><td>&quot;WXLGXPJGP3TPYZ…</td><td>0.0</td><td>532.0</td><td>&quot;silver&quot;</td><td>&quot;1&quot;</td></tr><tr><td>&quot;PW:AQ_005138&quot;</td><td>&quot;WXLGXPJGP3TPYZ…</td><td>0.0</td><td>532.0</td><td>&quot;silver&quot;</td><td>&quot;1&quot;</td></tr><tr><td>&quot;PW:AQ_005165&quot;</td><td>&quot;WXLGXPJGP3TPYZ…</td><td>0.0</td><td>532.0</td><td>&quot;silver&quot;</td><td>&quot;1&quot;</td></tr><tr><td>&quot;PW:AQ_005586&quot;</td><td>&quot;WXLGXPJGP3TPYZ…</td><td>0.0</td><td>532.0</td><td>&quot;silver&quot;</td><td>&quot;1&quot;</td></tr><tr><td>&quot;PW:KA_003035&quot;</td><td>&quot;LGVKX52DQQM3S3…</td><td>651801.903845</td><td>532.0</td><td>&quot;diamond&quot;</td><td>&quot;3&quot;</td></tr><tr><td>&quot;PW:KA_002371&quot;</td><td>&quot;MLTQLCL6RQMKPD…</td><td>0.0</td><td>106.4</td><td>&quot;silver&quot;</td><td>&quot;3&quot;</td></tr><tr><td>&quot;PW:AB_004184&quot;</td><td>&quot;O72JX6FGUNYARA…</td><td>15.04</td><td>53.2</td><td>&quot;silver&quot;</td><td>&quot;4&quot;</td></tr><tr><td>&quot;PW:KA_007602&quot;</td><td>&quot;KF25U5FKB2YF46…</td><td>146536.492002</td><td>106.4</td><td>&quot;silver&quot;</td><td>&quot;3&quot;</td></tr><tr><td>&quot;PW:KA_002307&quot;</td><td>&quot;MLTQLCL6RQMKPD…</td><td>0.0</td><td>53.2</td><td>&quot;silver&quot;</td><td>&quot;3&quot;</td></tr><tr><td>&quot;PW:KA_002327&quot;</td><td>&quot;MLTQLCL6RQMKPD…</td><td>0.0</td><td>53.2</td><td>&quot;silver&quot;</td><td>&quot;3&quot;</td></tr><tr><td>&quot;PW:KA_003416&quot;</td><td>&quot;MXXCDNRV7INXRT…</td><td>0.0</td><td>266.0</td><td>&quot;gold&quot;</td><td>&quot;3&quot;</td></tr></tbody></table></div>"
      ],
      "text/plain": [
       "shape: (3_833, 6)\n",
       "┌──────────────┬────────────────────────┬───────────────┬────────────────────────┬──────────┬──────┐\n",
       "│ deviceId     ┆ accountAddress         ┆ balance       ┆ total_from_the_beginni ┆ category ┆ type │\n",
       "│ ---          ┆ ---                    ┆ ---           ┆ ng                     ┆ ---      ┆ ---  │\n",
       "│ str          ┆ str                    ┆ f64           ┆ ---                    ┆ str      ┆ str  │\n",
       "│              ┆                        ┆               ┆ f64                    ┆          ┆      │\n",
       "╞══════════════╪════════════════════════╪═══════════════╪════════════════════════╪══════════╪══════╡\n",
       "│ PW:AB_003082 ┆ GQK6DACLOBA65KCUQPURBR ┆ 31416.140747  ┆ 5985.0                 ┆ silver   ┆ 4    │\n",
       "│              ┆ KT5HW352KF…            ┆               ┆                        ┆          ┆      │\n",
       "│ PW:AB_015965 ┆ OOBP5DJRMALYTJKZBOVR3D ┆ 141578.554582 ┆ 60648.0                ┆ diamond  ┆ 4    │\n",
       "│              ┆ QLE2QZSNSN…            ┆               ┆                        ┆          ┆      │\n",
       "│ PW:AB_028048 ┆ OOBP5DJRMALYTJKZBOVR3D ┆ 141578.554582 ┆ 56658.0                ┆ diamond  ┆ 4    │\n",
       "│              ┆ QLE2QZSNSN…            ┆               ┆                        ┆          ┆      │\n",
       "│ PW:KA_013602 ┆ Y4OFYXBM45HOKBZDI6VCGS ┆ 91033.423266  ┆ 8937.6                 ┆ silver   ┆ 3    │\n",
       "│              ┆ VKOG35DAX7…            ┆               ┆                        ┆          ┆      │\n",
       "│ …            ┆ …                      ┆ …             ┆ …                      ┆ …        ┆ …    │\n",
       "│ PW:KA_007602 ┆ KF25U5FKB2YF46YHD5VUEE ┆ 146536.492002 ┆ 106.4                  ┆ silver   ┆ 3    │\n",
       "│              ┆ GIEO2KXTG5…            ┆               ┆                        ┆          ┆      │\n",
       "│ PW:KA_002307 ┆ MLTQLCL6RQMKPDACUIILLV ┆ 0.0           ┆ 53.2                   ┆ silver   ┆ 3    │\n",
       "│              ┆ 5YPRM7IJFF…            ┆               ┆                        ┆          ┆      │\n",
       "│ PW:KA_002327 ┆ MLTQLCL6RQMKPDACUIILLV ┆ 0.0           ┆ 53.2                   ┆ silver   ┆ 3    │\n",
       "│              ┆ 5YPRM7IJFF…            ┆               ┆                        ┆          ┆      │\n",
       "│ PW:KA_003416 ┆ MXXCDNRV7INXRTCZM2WQXM ┆ 0.0           ┆ 266.0                  ┆ gold     ┆ 3    │\n",
       "│              ┆ 3WXRQTWK5P…            ┆               ┆                        ┆          ┆      │\n",
       "└──────────────┴────────────────────────┴───────────────┴────────────────────────┴──────────┴──────┘"
      ]
     },
     "execution_count": 18,
     "metadata": {},
     "output_type": "execute_result"
    }
   ],
   "source": [
    "fact_table_df = pl.concat([unique_device_IDs.select(\"deviceId\"), unique_device_IDs.select(\"accountAddress\")], how=\"horizontal\")\n",
    "fact_table_df = fact_table_df.join(combined_staked_account_df, on=\"accountAddress\", how=\"inner\")\n",
    "fact_table_df = fact_table_df.join(unique_device_IDs.select(\"deviceId\", \"total_from_the_beginning\", \"category\"), on=\"deviceId\", how=\"inner\")\n",
    "fact_table_df = fact_table_df.with_columns(pl.Series(\"type\",device_types))\n",
    "\n",
    "fact_table_df"
   ]
  },
  {
   "cell_type": "code",
   "execution_count": 19,
   "metadata": {},
   "outputs": [],
   "source": [
    "# Creation separate splits of transaction tables into separate smaller tables by device type to reduce query times\n",
    "\n",
    "type_1_sensor_transact_table = combined_transact_df.filter(pl.col(\"type\") == \"1\")\n",
    "type_2_sensor_transact_table = combined_transact_df.filter(pl.col(\"type\") == \"2\")\n",
    "type_3_sensor_transact_table = combined_transact_df.filter(pl.col(\"type\") == \"3\")\n",
    "type_4_sensor_transact_table = combined_transact_df.filter(pl.col(\"type\") == \"4\")\n",
    "\n",
    "combined_staked_df = combined_staked_df.join(fact_table_df.select(\"deviceId\", \"type\"), on=\"deviceId\", how=\"inner\")\n",
    "combined_staked_df = combined_staked_df.drop(\"total_from_the_beginning\")\n",
    "\n",
    "type_1_stake_transact_table = combined_staked_df.filter(pl.col(\"type\") == \"1\")\n",
    "type_2_stake_transact_table = combined_staked_df.filter(pl.col(\"type\") == \"2\")\n",
    "type_3_stake_transact_table = combined_staked_df.filter(pl.col(\"type\") == \"3\")\n",
    "type_4_stake_transact_table = combined_staked_df.filter(pl.col(\"type\") == \"4\")\n",
    "\n"
   ]
  },
  {
   "cell_type": "code",
   "execution_count": 20,
   "metadata": {},
   "outputs": [
    {
     "data": {
      "text/plain": [
       "-1"
      ]
     },
     "execution_count": 20,
     "metadata": {},
     "output_type": "execute_result"
    }
   ],
   "source": [
    "# Uploading final tables to SQL Server via SQL-Alchemy\n",
    "\n",
    "fact_table_df.to_pandas().to_sql(name=\"pw_data_fact_table\", con= engine, if_exists=\"replace\")\n",
    "combined_staked_df.to_pandas().to_sql(name=\"staking_transactions\", con= engine, if_exists=\"replace\")\n",
    "combined_transact_df.to_pandas().to_sql(name=\"sensor_transactions\", con= engine, if_exists=\"replace\")\n",
    "type_1_sensor_transact_table.to_pandas().to_sql(name=\"type_1_sensor_transactions\", con= engine, if_exists=\"replace\")\n",
    "type_2_sensor_transact_table.to_pandas().to_sql(name=\"type_2_sensor_transactions\", con= engine, if_exists=\"replace\")\n",
    "type_3_sensor_transact_table.to_pandas().to_sql(name=\"type_3_sensor_transactions\", con= engine, if_exists=\"replace\")\n",
    "type_4_sensor_transact_table.to_pandas().to_sql(name=\"type_4_sensor_transactions\", con= engine, if_exists=\"replace\")\n",
    "type_1_stake_transact_table.to_pandas().to_sql(name=\"type_1_staking_transactions\", con= engine, if_exists=\"replace\")\n",
    "type_2_stake_transact_table.to_pandas().to_sql(name=\"type_2_staking_transactions\", con= engine, if_exists=\"replace\")\n",
    "type_3_stake_transact_table.to_pandas().to_sql(name=\"type_3_staking_transactions\", con= engine, if_exists=\"replace\")\n",
    "type_4_stake_transact_table.to_pandas().to_sql(name=\"type_4_staking_transactions\", con= engine, if_exists=\"replace\")"
   ]
  }
 ],
 "metadata": {
  "kernelspec": {
   "display_name": "Python 3",
   "language": "python",
   "name": "python3"
  },
  "language_info": {
   "codemirror_mode": {
    "name": "ipython",
    "version": 3
   },
   "file_extension": ".py",
   "mimetype": "text/x-python",
   "name": "python",
   "nbconvert_exporter": "python",
   "pygments_lexer": "ipython3",
   "version": "3.10.12"
  },
  "orig_nbformat": 4
 },
 "nbformat": 4,
 "nbformat_minor": 2
}
