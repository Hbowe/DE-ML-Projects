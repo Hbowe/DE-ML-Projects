{
 "cells": [
  {
   "cell_type": "code",
   "execution_count": 1,
   "metadata": {},
   "outputs": [],
   "source": [
    "import polars as pl\n",
    "from includes.credentials import credentials\n",
    "from sqlalchemy import create_engine\n",
    "import pyodbc"
   ]
  },
  {
   "cell_type": "code",
   "execution_count": 2,
   "metadata": {},
   "outputs": [],
   "source": [
    "base_directory = credentials.get(\"Base_Directory\")\n",
    "\n",
    "staking_transactions_cleaned = base_directory + \"staking_transactions_cleaned/\"\n",
    "staked_accounts_cleaned  = base_directory + \"staked_accounts_cleaned/\"\n",
    "sensor_transactions_cleaned  = base_directory + \"sensor_transactions_cleaned/\"\n",
    "\n",
    "connection_method = credentials.get(\"DB_Connection_Method\", \"method\")\n",
    "db_user_name = credentials.get(\"DB_User_Name\", \"user\")\n",
    "pwd = credentials.get(\"DB_Password\", \"password\")\n",
    "db_DSN = credentials.get(\"DB_DSN\", \"dsn\")\n",
    "\n",
    "engine = create_engine(connection_method + db_user_name + pwd + db_DSN)\n"
   ]
  },
  {
   "cell_type": "code",
   "execution_count": 3,
   "metadata": {},
   "outputs": [
    {
     "data": {
      "text/html": [
       "<div><style>\n",
       ".dataframe > thead > tr > th,\n",
       ".dataframe > tbody > tr > td {\n",
       "  text-align: right;\n",
       "}\n",
       "</style>\n",
       "<small>shape: (472_887, 7)</small><table border=\"1\" class=\"dataframe\"><thead><tr><th>accountAddress</th><th>stakeTransactionId</th><th>category</th><th>stakeTransactionDate</th><th>deviceId</th><th>hodler_program</th><th>total_from_the_beginning</th></tr><tr><td>str</td><td>str</td><td>str</td><td>date</td><td>str</td><td>f64</td><td>f64</td></tr></thead><tbody><tr><td>&quot;GQK6DACLOBA65K…</td><td>&quot;N32URHH76QAOL6…</td><td>&quot;silver&quot;</td><td>2023-08-07</td><td>&quot;PW:AB_003082&quot;</td><td>26.6</td><td>4708.2</td></tr><tr><td>&quot;BYUO2RMTBOD7DM…</td><td>&quot;DV4223WKVOE2YV…</td><td>&quot;silver&quot;</td><td>2023-08-07</td><td>&quot;PW:AQ_007067&quot;</td><td>133.0</td><td>17024.0</td></tr><tr><td>&quot;OOBP5DJRMALYTJ…</td><td>&quot;AW3BH6XAXX7XIM…</td><td>&quot;diamond&quot;</td><td>2023-08-07</td><td>&quot;PW:AB_028048&quot;</td><td>266.0</td><td>43890.0</td></tr><tr><td>&quot;OOBP5DJRMALYTJ…</td><td>&quot;WCEJ5VZ2WE5J7W…</td><td>&quot;diamond&quot;</td><td>2023-08-07</td><td>&quot;PW:AB_015965&quot;</td><td>266.0</td><td>47880.0</td></tr><tr><td>&quot;Y4OFYXBM45HOKB…</td><td>&quot;L66LN7A2LOGVWB…</td><td>&quot;gold&quot;</td><td>2023-08-07</td><td>&quot;PW:TU_000198&quot;</td><td>266.0</td><td>48678.0</td></tr><tr><td>&quot;Y4OFYXBM45HOKB…</td><td>&quot;ZM75OCWCD5FMKA…</td><td>&quot;silver&quot;</td><td>2023-08-07</td><td>&quot;PW:KA_013602&quot;</td><td>53.2</td><td>6384.0</td></tr><tr><td>&quot;HFPCVESO2XLDIG…</td><td>&quot;2TFBZWUCGAZNOE…</td><td>&quot;diamond&quot;</td><td>2023-08-07</td><td>&quot;PW:AB_014402&quot;</td><td>266.0</td><td>41762.0</td></tr><tr><td>&quot;BYUO2RMTBOD7DM…</td><td>&quot;TFYXNVZ6BRXLWC…</td><td>&quot;silver&quot;</td><td>2023-08-07</td><td>&quot;PW:AQ_007079&quot;</td><td>133.0</td><td>20881.0</td></tr><tr><td>&quot;BYUO2RMTBOD7DM…</td><td>&quot;PVTRP7IMPUBMLO…</td><td>&quot;silver&quot;</td><td>2023-08-07</td><td>&quot;PW:AQ_007062&quot;</td><td>133.0</td><td>24206.0</td></tr><tr><td>&quot;HFPCVESO2XLDIG…</td><td>&quot;AWF3REZOEDHKBM…</td><td>&quot;diamond&quot;</td><td>2023-08-07</td><td>&quot;PW:AQ_005569&quot;</td><td>1330.0</td><td>194845.0</td></tr><tr><td>&quot;HFPCVESO2XLDIG…</td><td>&quot;G6RL6OPFZ4JGAE…</td><td>&quot;diamond&quot;</td><td>2023-08-07</td><td>&quot;PW:KA_018034&quot;</td><td>532.0</td><td>77459.2</td></tr><tr><td>&quot;PFTV6AASEGBJYA…</td><td>&quot;E7YZOEGE5FZPEC…</td><td>&quot;diamond&quot;</td><td>2023-08-07</td><td>&quot;PW:IN_000011&quot;</td><td>266.0</td><td>47614.0</td></tr><tr><td>&hellip;</td><td>&hellip;</td><td>&hellip;</td><td>&hellip;</td><td>&hellip;</td><td>&hellip;</td><td>&hellip;</td></tr><tr><td>&quot;R3B6LKADWVMUR7…</td><td>&quot;2BEI6FUSHYUZT6…</td><td>&quot;gold&quot;</td><td>2023-02-01</td><td>&quot;PW:AQ_002032&quot;</td><td>665.0</td><td>665.0</td></tr><tr><td>&quot;PZMHKQATFJZDY4…</td><td>&quot;IMXMAI4JXQARIK…</td><td>&quot;silver&quot;</td><td>2023-02-01</td><td>&quot;PW:AB_027921&quot;</td><td>26.6</td><td>26.6</td></tr><tr><td>&quot;46FGY4ZP5JYWBQ…</td><td>&quot;MXFC3IERYUDWTA…</td><td>&quot;diamond&quot;</td><td>2023-02-01</td><td>&quot;PW:KA_000090&quot;</td><td>532.0</td><td>532.0</td></tr><tr><td>&quot;BGTP6JT7NQQ4JK…</td><td>&quot;L7GW3TDV5IDLGD…</td><td>&quot;diamond&quot;</td><td>2023-02-01</td><td>&quot;PW:KA_012804&quot;</td><td>532.0</td><td>532.0</td></tr><tr><td>&quot;46FGY4ZP5JYWBQ…</td><td>&quot;7GIE545H75URRC…</td><td>&quot;diamond&quot;</td><td>2023-02-01</td><td>&quot;PW:KA_017096&quot;</td><td>532.0</td><td>532.0</td></tr><tr><td>&quot;BGTP6JT7NQQ4JK…</td><td>&quot;4EA7GS6ILRFDXW…</td><td>&quot;diamond&quot;</td><td>2023-02-01</td><td>&quot;PW:TU_000114&quot;</td><td>532.0</td><td>532.0</td></tr><tr><td>&quot;BGTP6JT7NQQ4JK…</td><td>&quot;ZFS64B5ON7CHFX…</td><td>&quot;diamond&quot;</td><td>2023-02-01</td><td>&quot;PW:AQ_006229&quot;</td><td>1330.0</td><td>1330.0</td></tr><tr><td>&quot;BGTP6JT7NQQ4JK…</td><td>&quot;UOY5Y2FF32YIL3…</td><td>&quot;diamond&quot;</td><td>2023-02-01</td><td>&quot;PW:AB_016362&quot;</td><td>266.0</td><td>266.0</td></tr><tr><td>&quot;2SJIZSNHCMROXR…</td><td>&quot;NGSKFFPFETUOMR…</td><td>&quot;diamond&quot;</td><td>2023-02-01</td><td>&quot;PW:KA_017740&quot;</td><td>532.0</td><td>532.0</td></tr><tr><td>&quot;KD6PQYS4AIROWC…</td><td>&quot;LQ2BBJUBNK64JU…</td><td>&quot;diamond&quot;</td><td>2023-02-01</td><td>&quot;PW:KA_004815&quot;</td><td>532.0</td><td>532.0</td></tr><tr><td>&quot;2SJIZSNHCMROXR…</td><td>&quot;N4LE5BODGSM7WY…</td><td>&quot;diamond&quot;</td><td>2023-02-01</td><td>&quot;PW:AQ_000435&quot;</td><td>1330.0</td><td>1330.0</td></tr><tr><td>&quot;X6OFLMQ6O7EL3W…</td><td>&quot;YEU3Q6RFTTZE7E…</td><td>&quot;diamond&quot;</td><td>2023-02-01</td><td>&quot;PW:AB_016080&quot;</td><td>266.0</td><td>266.0</td></tr></tbody></table></div>"
      ],
      "text/plain": [
       "shape: (472_887, 7)\n",
       "┌──────────────┬──────────────┬──────────┬──────────────┬──────────────┬─────────────┬─────────────┐\n",
       "│ accountAddre ┆ stakeTransac ┆ category ┆ stakeTransac ┆ deviceId     ┆ hodler_prog ┆ total_from_ │\n",
       "│ ss           ┆ tionId       ┆ ---      ┆ tionDate     ┆ ---          ┆ ram         ┆ the_beginni │\n",
       "│ ---          ┆ ---          ┆ str      ┆ ---          ┆ str          ┆ ---         ┆ ng          │\n",
       "│ str          ┆ str          ┆          ┆ date         ┆              ┆ f64         ┆ ---         │\n",
       "│              ┆              ┆          ┆              ┆              ┆             ┆ f64         │\n",
       "╞══════════════╪══════════════╪══════════╪══════════════╪══════════════╪═════════════╪═════════════╡\n",
       "│ GQK6DACLOBA6 ┆ N32URHH76QAO ┆ silver   ┆ 2023-08-07   ┆ PW:AB_003082 ┆ 26.6        ┆ 4708.2      │\n",
       "│ 5KCUQPURBRKT ┆ L6PDDILE4BQA ┆          ┆              ┆              ┆             ┆             │\n",
       "│ 5HW352KF…    ┆ H4GU2ANP…    ┆          ┆              ┆              ┆             ┆             │\n",
       "│ BYUO2RMTBOD7 ┆ DV4223WKVOE2 ┆ silver   ┆ 2023-08-07   ┆ PW:AQ_007067 ┆ 133.0       ┆ 17024.0     │\n",
       "│ DMWNDL3ZPTF6 ┆ YVS6WKL2XGYA ┆          ┆              ┆              ┆             ┆             │\n",
       "│ KCOIJH4W…    ┆ EQ6FOH6W…    ┆          ┆              ┆              ┆             ┆             │\n",
       "│ OOBP5DJRMALY ┆ AW3BH6XAXX7X ┆ diamond  ┆ 2023-08-07   ┆ PW:AB_028048 ┆ 266.0       ┆ 43890.0     │\n",
       "│ TJKZBOVR3DQL ┆ IMFJCFBKQSKH ┆          ┆              ┆              ┆             ┆             │\n",
       "│ E2QZSNSN…    ┆ 6KITEZS3…    ┆          ┆              ┆              ┆             ┆             │\n",
       "│ OOBP5DJRMALY ┆ WCEJ5VZ2WE5J ┆ diamond  ┆ 2023-08-07   ┆ PW:AB_015965 ┆ 266.0       ┆ 47880.0     │\n",
       "│ TJKZBOVR3DQL ┆ 7W5CJLWAI7AF ┆          ┆              ┆              ┆             ┆             │\n",
       "│ E2QZSNSN…    ┆ AVP5PT73…    ┆          ┆              ┆              ┆             ┆             │\n",
       "│ …            ┆ …            ┆ …        ┆ …            ┆ …            ┆ …           ┆ …           │\n",
       "│ 2SJIZSNHCMRO ┆ NGSKFFPFETUO ┆ diamond  ┆ 2023-02-01   ┆ PW:KA_017740 ┆ 532.0       ┆ 532.0       │\n",
       "│ XRK6VY7U2BAC ┆ MRLRFE2A4FV2 ┆          ┆              ┆              ┆             ┆             │\n",
       "│ XQFUA4XG…    ┆ HIIT5OWW…    ┆          ┆              ┆              ┆             ┆             │\n",
       "│ KD6PQYS4AIRO ┆ LQ2BBJUBNK64 ┆ diamond  ┆ 2023-02-01   ┆ PW:KA_004815 ┆ 532.0       ┆ 532.0       │\n",
       "│ WCOSXG3YYE4P ┆ JUM5ELTKBMUQ ┆          ┆              ┆              ┆             ┆             │\n",
       "│ KPRR54AG…    ┆ OMAWXOMX…    ┆          ┆              ┆              ┆             ┆             │\n",
       "│ 2SJIZSNHCMRO ┆ N4LE5BODGSM7 ┆ diamond  ┆ 2023-02-01   ┆ PW:AQ_000435 ┆ 1330.0      ┆ 1330.0      │\n",
       "│ XRK6VY7U2BAC ┆ WY3PEOZLW6UH ┆          ┆              ┆              ┆             ┆             │\n",
       "│ XQFUA4XG…    ┆ UTATSNX4…    ┆          ┆              ┆              ┆             ┆             │\n",
       "│ X6OFLMQ6O7EL ┆ YEU3Q6RFTTZE ┆ diamond  ┆ 2023-02-01   ┆ PW:AB_016080 ┆ 266.0       ┆ 266.0       │\n",
       "│ 3WVJ7JZ6JMZV ┆ 7EJ74K43C67C ┆          ┆              ┆              ┆             ┆             │\n",
       "│ B6AOOWPP…    ┆ HKUYIEDS…    ┆          ┆              ┆              ┆             ┆             │\n",
       "└──────────────┴──────────────┴──────────┴──────────────┴──────────────┴─────────────┴─────────────┘"
      ]
     },
     "execution_count": 3,
     "metadata": {},
     "output_type": "execute_result"
    }
   ],
   "source": [
    "combined_staked_df = pl.DataFrame._read_json(staking_transactions_cleaned + \"cleaned_staked_pages.json\")\n",
    "combined_staked_df"
   ]
  },
  {
   "cell_type": "code",
   "execution_count": 4,
   "metadata": {},
   "outputs": [
    {
     "data": {
      "text/html": [
       "<div><style>\n",
       ".dataframe > thead > tr > th,\n",
       ".dataframe > tbody > tr > td {\n",
       "  text-align: right;\n",
       "}\n",
       "</style>\n",
       "<small>shape: (1_310, 2)</small><table border=\"1\" class=\"dataframe\"><thead><tr><th>accountAddress</th><th>balance</th></tr><tr><td>str</td><td>f64</td></tr></thead><tbody><tr><td>&quot;GQK6DACLOBA65K…</td><td>29224.115147</td></tr><tr><td>&quot;BYUO2RMTBOD7DM…</td><td>114270.443206</td></tr><tr><td>&quot;OOBP5DJRMALYTJ…</td><td>140479.290582</td></tr><tr><td>&quot;Y4OFYXBM45HOKB…</td><td>85400.602466</td></tr><tr><td>&quot;HFPCVESO2XLDIG…</td><td>560010.000079</td></tr><tr><td>&quot;PFTV6AASEGBJYA…</td><td>1.0005e6</td></tr><tr><td>&quot;MAXNP7LVUX7MHD…</td><td>487241.459024</td></tr><tr><td>&quot;TEFHFBWCW32D7E…</td><td>272565.863999</td></tr><tr><td>&quot;U3MYXYWZCYLXG5…</td><td>2.62242e6</td></tr><tr><td>&quot;Q3QXHGWXJZGEWL…</td><td>98144.203435</td></tr><tr><td>&quot;UNZMIO2LTFE64S…</td><td>779919.75403</td></tr><tr><td>&quot;N7BIJ3DXQ37FBV…</td><td>137238.119281</td></tr><tr><td>&hellip;</td><td>&hellip;</td></tr><tr><td>&quot;GQM6MKUBNURN4F…</td><td>91.4952</td></tr><tr><td>&quot;V7WBI6US5DC2AN…</td><td>2176.574186</td></tr><tr><td>&quot;XUY7Z43CN5XJIU…</td><td>0.0</td></tr><tr><td>&quot;MXZJRIVWGWJKME…</td><td>2522.148</td></tr><tr><td>&quot;TO7UIYBNANYW53…</td><td>0.0</td></tr><tr><td>&quot;M4Q2DJURYT4PZY…</td><td>0.0</td></tr><tr><td>&quot;D3ZTRVWMZJHEFH…</td><td>0.0</td></tr><tr><td>&quot;LEXR4ORPSG4REB…</td><td>0.0</td></tr><tr><td>&quot;UOLFJ3IESKOJQF…</td><td>11639.904</td></tr><tr><td>&quot;WXLGXPJGP3TPYZ…</td><td>0.0</td></tr><tr><td>&quot;MLTQLCL6RQMKPD…</td><td>0.0</td></tr><tr><td>&quot;O72JX6FGUNYARA…</td><td>15.04</td></tr></tbody></table></div>"
      ],
      "text/plain": [
       "shape: (1_310, 2)\n",
       "┌───────────────────────────────────┬───────────────┐\n",
       "│ accountAddress                    ┆ balance       │\n",
       "│ ---                               ┆ ---           │\n",
       "│ str                               ┆ f64           │\n",
       "╞═══════════════════════════════════╪═══════════════╡\n",
       "│ GQK6DACLOBA65KCUQPURBRKT5HW352KF… ┆ 29224.115147  │\n",
       "│ BYUO2RMTBOD7DMWNDL3ZPTF6KCOIJH4W… ┆ 114270.443206 │\n",
       "│ OOBP5DJRMALYTJKZBOVR3DQLE2QZSNSN… ┆ 140479.290582 │\n",
       "│ Y4OFYXBM45HOKBZDI6VCGSVKOG35DAX7… ┆ 85400.602466  │\n",
       "│ …                                 ┆ …             │\n",
       "│ UOLFJ3IESKOJQFMBJFTW5YSHUH7UJGNE… ┆ 11639.904     │\n",
       "│ WXLGXPJGP3TPYZK2X5X7EATBJCZBNS2K… ┆ 0.0           │\n",
       "│ MLTQLCL6RQMKPDACUIILLV5YPRM7IJFF… ┆ 0.0           │\n",
       "│ O72JX6FGUNYARAY64NXQPGV33KQCMEWZ… ┆ 15.04         │\n",
       "└───────────────────────────────────┴───────────────┘"
      ]
     },
     "execution_count": 4,
     "metadata": {},
     "output_type": "execute_result"
    }
   ],
   "source": [
    "combined_staked_account_df = pl.DataFrame._read_json(staked_accounts_cleaned + \"cleaned_staked_accounts.json\")\n",
    "combined_staked_account_df"
   ]
  },
  {
   "cell_type": "code",
   "execution_count": 5,
   "metadata": {},
   "outputs": [
    {
     "data": {
      "text/html": [
       "<div><style>\n",
       ".dataframe > thead > tr > th,\n",
       ".dataframe > tbody > tr > td {\n",
       "  text-align: right;\n",
       "}\n",
       "</style>\n",
       "<small>shape: (1_199_059, 11)</small><table border=\"1\" class=\"dataframe\"><thead><tr><th>amount</th><th>accountAddress</th><th>sensorTransactionId</th><th>date</th><th>streams</th><th>deviceId</th><th>type</th><th>localScore</th><th>globalScore</th><th>status</th><th>tier</th></tr><tr><td>f64</td><td>str</td><td>str</td><td>date</td><td>i64</td><td>str</td><td>str</td><td>i64</td><td>i64</td><td>str</td><td>str</td></tr></thead><tbody><tr><td>11.616</td><td>&quot;G2UGNOQ7LDI725…</td><td>&quot;FKANKDCY5IU727…</td><td>2023-08-07</td><td>363</td><td>&quot;PW:AB_005671&quot;</td><td>&quot;4&quot;</td><td>563</td><td>563</td><td>null</td><td>null</td></tr><tr><td>2.904</td><td>&quot;LSAHUHHFNBWVSQ…</td><td>&quot;AEO4N7VU5SSJYV…</td><td>2023-08-07</td><td>363</td><td>&quot;PW:AB_005671&quot;</td><td>&quot;4&quot;</td><td>563</td><td>563</td><td>null</td><td>null</td></tr><tr><td>12.704</td><td>&quot;Q7GIFALMELOMWT…</td><td>&quot;ANDAPBA2NFJ2X7…</td><td>2023-08-07</td><td>397</td><td>&quot;PW:AB_027718&quot;</td><td>&quot;4&quot;</td><td>161</td><td>161</td><td>null</td><td>null</td></tr><tr><td>3.176</td><td>&quot;LSAHUHHFNBWVSQ…</td><td>&quot;SVU5NGFX7PPPRZ…</td><td>2023-08-07</td><td>397</td><td>&quot;PW:AB_027718&quot;</td><td>&quot;4&quot;</td><td>161</td><td>161</td><td>null</td><td>null</td></tr><tr><td>12.672</td><td>&quot;TEFHFBWCW32D7E…</td><td>&quot;E4HHPBXZZYSHW6…</td><td>2023-08-07</td><td>396</td><td>&quot;PW:AB_027699&quot;</td><td>&quot;4&quot;</td><td>290</td><td>290</td><td>null</td><td>null</td></tr><tr><td>3.168</td><td>&quot;LSAHUHHFNBWVSQ…</td><td>&quot;YAPJWG65WVW5SO…</td><td>2023-08-07</td><td>396</td><td>&quot;PW:AB_027699&quot;</td><td>&quot;4&quot;</td><td>290</td><td>290</td><td>null</td><td>null</td></tr><tr><td>15.52</td><td>&quot;LXF3RJUWU4PKER…</td><td>&quot;VGSTTNXA7ECN6S…</td><td>2023-08-07</td><td>485</td><td>&quot;PW:AB_027985&quot;</td><td>&quot;4&quot;</td><td>207</td><td>207</td><td>null</td><td>null</td></tr><tr><td>3.88</td><td>&quot;LSAHUHHFNBWVSQ…</td><td>&quot;BVK5MBJZ52KYXF…</td><td>2023-08-07</td><td>485</td><td>&quot;PW:AB_027985&quot;</td><td>&quot;4&quot;</td><td>207</td><td>207</td><td>null</td><td>null</td></tr><tr><td>14.336</td><td>&quot;SWEU2LUGON5HW6…</td><td>&quot;2GAEXVSOZDQGKN…</td><td>2023-08-07</td><td>448</td><td>&quot;PW:AB_015843&quot;</td><td>&quot;4&quot;</td><td>445</td><td>445</td><td>null</td><td>null</td></tr><tr><td>3.584</td><td>&quot;LSAHUHHFNBWVSQ…</td><td>&quot;JMZZQ52IUCYXWZ…</td><td>2023-08-07</td><td>448</td><td>&quot;PW:AB_015843&quot;</td><td>&quot;4&quot;</td><td>445</td><td>445</td><td>null</td><td>null</td></tr><tr><td>11.584</td><td>&quot;HKN62BG6JT74ZC…</td><td>&quot;AA2PX4FNDGOU5L…</td><td>2023-08-07</td><td>362</td><td>&quot;PW:AB_015769&quot;</td><td>&quot;4&quot;</td><td>248</td><td>248</td><td>null</td><td>null</td></tr><tr><td>2.896</td><td>&quot;LSAHUHHFNBWVSQ…</td><td>&quot;FOKXJIE4P3YRGX…</td><td>2023-08-07</td><td>362</td><td>&quot;PW:AB_015769&quot;</td><td>&quot;4&quot;</td><td>248</td><td>248</td><td>null</td><td>null</td></tr><tr><td>&hellip;</td><td>&hellip;</td><td>&hellip;</td><td>&hellip;</td><td>&hellip;</td><td>&hellip;</td><td>&hellip;</td><td>&hellip;</td><td>&hellip;</td><td>&hellip;</td><td>&hellip;</td></tr><tr><td>133.3248</td><td>&quot;VJ6CID7FF4Z4SM…</td><td>&quot;ZSA32VPS7GYWZ7…</td><td>2023-02-01</td><td>96</td><td>&quot;PW:AQ_002516&quot;</td><td>&quot;1&quot;</td><td>416</td><td>416</td><td>&quot;L&quot;</td><td>&quot;1&quot;</td></tr><tr><td>33.3312</td><td>&quot;LSAHUHHFNBWVSQ…</td><td>&quot;NXURT6PVKJY4Z2…</td><td>2023-02-01</td><td>96</td><td>&quot;PW:AQ_002516&quot;</td><td>&quot;1&quot;</td><td>416</td><td>416</td><td>&quot;L&quot;</td><td>&quot;1&quot;</td></tr><tr><td>133.3248</td><td>&quot;25U4Z4FFIZZZAX…</td><td>&quot;V6CZWP23YB7CZQ…</td><td>2023-02-01</td><td>96</td><td>&quot;PW:AQ_003137&quot;</td><td>&quot;1&quot;</td><td>494</td><td>494</td><td>&quot;L&quot;</td><td>&quot;1&quot;</td></tr><tr><td>33.3312</td><td>&quot;LSAHUHHFNBWVSQ…</td><td>&quot;TDART6B5GJOEOH…</td><td>2023-02-01</td><td>96</td><td>&quot;PW:AQ_003137&quot;</td><td>&quot;1&quot;</td><td>494</td><td>494</td><td>&quot;L&quot;</td><td>&quot;1&quot;</td></tr><tr><td>129.1584</td><td>&quot;BKX6CDNO4NV6XW…</td><td>&quot;EC7JBB3EFNTZY4…</td><td>2023-02-01</td><td>93</td><td>&quot;PW:AQ_002567&quot;</td><td>&quot;1&quot;</td><td>23</td><td>188</td><td>&quot;L&quot;</td><td>&quot;1&quot;</td></tr><tr><td>32.2896</td><td>&quot;LSAHUHHFNBWVSQ…</td><td>&quot;I4A3K5D7YNK2DU…</td><td>2023-02-01</td><td>93</td><td>&quot;PW:AQ_002567&quot;</td><td>&quot;1&quot;</td><td>23</td><td>188</td><td>&quot;L&quot;</td><td>&quot;1&quot;</td></tr><tr><td>133.3248</td><td>&quot;3FANFVUZEFAXKZ…</td><td>&quot;Z2JVNGAO3DXR2U…</td><td>2023-02-01</td><td>96</td><td>&quot;PW:AQ_004034&quot;</td><td>&quot;1&quot;</td><td>471</td><td>471</td><td>&quot;L&quot;</td><td>&quot;1&quot;</td></tr><tr><td>33.3312</td><td>&quot;LSAHUHHFNBWVSQ…</td><td>&quot;POQWYZUJPBZFTS…</td><td>2023-02-01</td><td>96</td><td>&quot;PW:AQ_004034&quot;</td><td>&quot;1&quot;</td><td>471</td><td>471</td><td>&quot;L&quot;</td><td>&quot;1&quot;</td></tr><tr><td>119.99232</td><td>&quot;23VNDIXKWGWHUH…</td><td>&quot;5KKEYHDLUGN3DL…</td><td>2023-02-01</td><td>96</td><td>&quot;PW:AQ_003835&quot;</td><td>&quot;1&quot;</td><td>129</td><td>129</td><td>&quot;L&quot;</td><td>&quot;1&quot;</td></tr><tr><td>29.99808</td><td>&quot;LSAHUHHFNBWVSQ…</td><td>&quot;ZQ7P2DEIS4KCSP…</td><td>2023-02-01</td><td>96</td><td>&quot;PW:AQ_003835&quot;</td><td>&quot;1&quot;</td><td>129</td><td>129</td><td>&quot;L&quot;</td><td>&quot;1&quot;</td></tr><tr><td>133.3248</td><td>&quot;IFO7MBGUMZBEG7…</td><td>&quot;MEJRJMCJSYOAUP…</td><td>2023-02-01</td><td>96</td><td>&quot;PW:AQ_004785&quot;</td><td>&quot;1&quot;</td><td>430</td><td>430</td><td>&quot;L&quot;</td><td>&quot;1&quot;</td></tr><tr><td>33.3312</td><td>&quot;LSAHUHHFNBWVSQ…</td><td>&quot;5RSLNXD5TNCGMW…</td><td>2023-02-01</td><td>96</td><td>&quot;PW:AQ_004785&quot;</td><td>&quot;1&quot;</td><td>430</td><td>430</td><td>&quot;L&quot;</td><td>&quot;1&quot;</td></tr></tbody></table></div>"
      ],
      "text/plain": [
       "shape: (1_199_059, 11)\n",
       "┌───────────┬─────────────┬─────────────┬────────────┬───┬────────────┬────────────┬────────┬──────┐\n",
       "│ amount    ┆ accountAddr ┆ sensorTrans ┆ date       ┆ … ┆ localScore ┆ globalScor ┆ status ┆ tier │\n",
       "│ ---       ┆ ess         ┆ actionId    ┆ ---        ┆   ┆ ---        ┆ e          ┆ ---    ┆ ---  │\n",
       "│ f64       ┆ ---         ┆ ---         ┆ date       ┆   ┆ i64        ┆ ---        ┆ str    ┆ str  │\n",
       "│           ┆ str         ┆ str         ┆            ┆   ┆            ┆ i64        ┆        ┆      │\n",
       "╞═══════════╪═════════════╪═════════════╪════════════╪═══╪════════════╪════════════╪════════╪══════╡\n",
       "│ 11.616    ┆ G2UGNOQ7LDI ┆ FKANKDCY5IU ┆ 2023-08-07 ┆ … ┆ 563        ┆ 563        ┆ null   ┆ null │\n",
       "│           ┆ 725QRZ5WBG4 ┆ 727UDMRX642 ┆            ┆   ┆            ┆            ┆        ┆      │\n",
       "│           ┆ JGZLGUS565… ┆ WKLTLTRI56… ┆            ┆   ┆            ┆            ┆        ┆      │\n",
       "│ 2.904     ┆ LSAHUHHFNBW ┆ AEO4N7VU5SS ┆ 2023-08-07 ┆ … ┆ 563        ┆ 563        ┆ null   ┆ null │\n",
       "│           ┆ VSQFT55KT7T ┆ JYVE7DDL4JR ┆            ┆   ┆            ┆            ┆        ┆      │\n",
       "│           ┆ JBQI7FAMCU… ┆ 6ENAAXWLUU… ┆            ┆   ┆            ┆            ┆        ┆      │\n",
       "│ 12.704    ┆ Q7GIFALMELO ┆ ANDAPBA2NFJ ┆ 2023-08-07 ┆ … ┆ 161        ┆ 161        ┆ null   ┆ null │\n",
       "│           ┆ MWT2NUWPPVM ┆ 2X7COSG6MJY ┆            ┆   ┆            ┆            ┆        ┆      │\n",
       "│           ┆ EF5IR43Y5N… ┆ 5IDCXQ7QCM… ┆            ┆   ┆            ┆            ┆        ┆      │\n",
       "│ 3.176     ┆ LSAHUHHFNBW ┆ SVU5NGFX7PP ┆ 2023-08-07 ┆ … ┆ 161        ┆ 161        ┆ null   ┆ null │\n",
       "│           ┆ VSQFT55KT7T ┆ PRZMX5XY2ZK ┆            ┆   ┆            ┆            ┆        ┆      │\n",
       "│           ┆ JBQI7FAMCU… ┆ WMPC5AYBHZ… ┆            ┆   ┆            ┆            ┆        ┆      │\n",
       "│ …         ┆ …           ┆ …           ┆ …          ┆ … ┆ …          ┆ …          ┆ …      ┆ …    │\n",
       "│ 119.99232 ┆ 23VNDIXKWGW ┆ 5KKEYHDLUGN ┆ 2023-02-01 ┆ … ┆ 129        ┆ 129        ┆ L      ┆ 1    │\n",
       "│           ┆ HUHPZM3ZUSO ┆ 3DLU6BISEJN ┆            ┆   ┆            ┆            ┆        ┆      │\n",
       "│           ┆ EIHN4PFYHA… ┆ 2BHNLBD3RR… ┆            ┆   ┆            ┆            ┆        ┆      │\n",
       "│ 29.99808  ┆ LSAHUHHFNBW ┆ ZQ7P2DEIS4K ┆ 2023-02-01 ┆ … ┆ 129        ┆ 129        ┆ L      ┆ 1    │\n",
       "│           ┆ VSQFT55KT7T ┆ CSPQABLS5ED ┆            ┆   ┆            ┆            ┆        ┆      │\n",
       "│           ┆ JBQI7FAMCU… ┆ UMVAUIRUMF… ┆            ┆   ┆            ┆            ┆        ┆      │\n",
       "│ 133.3248  ┆ IFO7MBGUMZB ┆ MEJRJMCJSYO ┆ 2023-02-01 ┆ … ┆ 430        ┆ 430        ┆ L      ┆ 1    │\n",
       "│           ┆ EG7FSTRJTYN ┆ AUPAOI5DDMP ┆            ┆   ┆            ┆            ┆        ┆      │\n",
       "│           ┆ UIQLLBAMTJ… ┆ 65IUJGAOGR… ┆            ┆   ┆            ┆            ┆        ┆      │\n",
       "│ 33.3312   ┆ LSAHUHHFNBW ┆ 5RSLNXD5TNC ┆ 2023-02-01 ┆ … ┆ 430        ┆ 430        ┆ L      ┆ 1    │\n",
       "│           ┆ VSQFT55KT7T ┆ GMWUZ4S6K5X ┆            ┆   ┆            ┆            ┆        ┆      │\n",
       "│           ┆ JBQI7FAMCU… ┆ BXKXH4PJTA… ┆            ┆   ┆            ┆            ┆        ┆      │\n",
       "└───────────┴─────────────┴─────────────┴────────────┴───┴────────────┴────────────┴────────┴──────┘"
      ]
     },
     "execution_count": 5,
     "metadata": {},
     "output_type": "execute_result"
    }
   ],
   "source": [
    "combined_transact_df = pl.DataFrame._read_json(sensor_transactions_cleaned + \"transactions_cleaned.json\")\n",
    "combined_transact_df"
   ]
  },
  {
   "cell_type": "code",
   "execution_count": 6,
   "metadata": {},
   "outputs": [
    {
     "data": {
      "text/html": [
       "<div><style>\n",
       ".dataframe > thead > tr > th,\n",
       ".dataframe > tbody > tr > td {\n",
       "  text-align: right;\n",
       "}\n",
       "</style>\n",
       "<small>shape: (3_781, 7)</small><table border=\"1\" class=\"dataframe\"><thead><tr><th>accountAddress</th><th>stakeTransactionId</th><th>category</th><th>stakeTransactionDate</th><th>deviceId</th><th>hodler_program</th><th>total_from_the_beginning</th></tr><tr><td>str</td><td>str</td><td>str</td><td>date</td><td>str</td><td>f64</td><td>f64</td></tr></thead><tbody><tr><td>&quot;GQK6DACLOBA65K…</td><td>&quot;N32URHH76QAOL6…</td><td>&quot;silver&quot;</td><td>2023-08-07</td><td>&quot;PW:AB_003082&quot;</td><td>26.6</td><td>4708.2</td></tr><tr><td>&quot;BYUO2RMTBOD7DM…</td><td>&quot;DV4223WKVOE2YV…</td><td>&quot;silver&quot;</td><td>2023-08-07</td><td>&quot;PW:AQ_007067&quot;</td><td>133.0</td><td>17024.0</td></tr><tr><td>&quot;OOBP5DJRMALYTJ…</td><td>&quot;AW3BH6XAXX7XIM…</td><td>&quot;diamond&quot;</td><td>2023-08-07</td><td>&quot;PW:AB_028048&quot;</td><td>266.0</td><td>43890.0</td></tr><tr><td>&quot;OOBP5DJRMALYTJ…</td><td>&quot;WCEJ5VZ2WE5J7W…</td><td>&quot;diamond&quot;</td><td>2023-08-07</td><td>&quot;PW:AB_015965&quot;</td><td>266.0</td><td>47880.0</td></tr><tr><td>&quot;Y4OFYXBM45HOKB…</td><td>&quot;L66LN7A2LOGVWB…</td><td>&quot;gold&quot;</td><td>2023-08-07</td><td>&quot;PW:TU_000198&quot;</td><td>266.0</td><td>48678.0</td></tr><tr><td>&quot;Y4OFYXBM45HOKB…</td><td>&quot;ZM75OCWCD5FMKA…</td><td>&quot;silver&quot;</td><td>2023-08-07</td><td>&quot;PW:KA_013602&quot;</td><td>53.2</td><td>6384.0</td></tr><tr><td>&quot;HFPCVESO2XLDIG…</td><td>&quot;2TFBZWUCGAZNOE…</td><td>&quot;diamond&quot;</td><td>2023-08-07</td><td>&quot;PW:AB_014402&quot;</td><td>266.0</td><td>41762.0</td></tr><tr><td>&quot;BYUO2RMTBOD7DM…</td><td>&quot;TFYXNVZ6BRXLWC…</td><td>&quot;silver&quot;</td><td>2023-08-07</td><td>&quot;PW:AQ_007079&quot;</td><td>133.0</td><td>20881.0</td></tr><tr><td>&quot;BYUO2RMTBOD7DM…</td><td>&quot;PVTRP7IMPUBMLO…</td><td>&quot;silver&quot;</td><td>2023-08-07</td><td>&quot;PW:AQ_007062&quot;</td><td>133.0</td><td>24206.0</td></tr><tr><td>&quot;HFPCVESO2XLDIG…</td><td>&quot;AWF3REZOEDHKBM…</td><td>&quot;diamond&quot;</td><td>2023-08-07</td><td>&quot;PW:AQ_005569&quot;</td><td>1330.0</td><td>194845.0</td></tr><tr><td>&quot;HFPCVESO2XLDIG…</td><td>&quot;G6RL6OPFZ4JGAE…</td><td>&quot;diamond&quot;</td><td>2023-08-07</td><td>&quot;PW:KA_018034&quot;</td><td>532.0</td><td>77459.2</td></tr><tr><td>&quot;PFTV6AASEGBJYA…</td><td>&quot;E7YZOEGE5FZPEC…</td><td>&quot;diamond&quot;</td><td>2023-08-07</td><td>&quot;PW:IN_000011&quot;</td><td>266.0</td><td>47614.0</td></tr><tr><td>&hellip;</td><td>&hellip;</td><td>&hellip;</td><td>&hellip;</td><td>&hellip;</td><td>&hellip;</td><td>&hellip;</td></tr><tr><td>&quot;WXLGXPJGP3TPYZ…</td><td>&quot;VUL64YPDNK7LF4…</td><td>&quot;silver&quot;</td><td>2023-02-04</td><td>&quot;PW:AQ_005111&quot;</td><td>133.0</td><td>532.0</td></tr><tr><td>&quot;WXLGXPJGP3TPYZ…</td><td>&quot;JDJMNJU4KLOFTJ…</td><td>&quot;silver&quot;</td><td>2023-02-04</td><td>&quot;PW:AQ_005113&quot;</td><td>133.0</td><td>532.0</td></tr><tr><td>&quot;WXLGXPJGP3TPYZ…</td><td>&quot;EOLINGC7PGOPAR…</td><td>&quot;silver&quot;</td><td>2023-02-04</td><td>&quot;PW:AQ_005138&quot;</td><td>133.0</td><td>532.0</td></tr><tr><td>&quot;WXLGXPJGP3TPYZ…</td><td>&quot;GOEVPQSNQGCAOZ…</td><td>&quot;silver&quot;</td><td>2023-02-04</td><td>&quot;PW:AQ_005165&quot;</td><td>133.0</td><td>532.0</td></tr><tr><td>&quot;WXLGXPJGP3TPYZ…</td><td>&quot;IPZ6WKWBQSWGLZ…</td><td>&quot;silver&quot;</td><td>2023-02-04</td><td>&quot;PW:AQ_005586&quot;</td><td>133.0</td><td>532.0</td></tr><tr><td>&quot;LGVKX52DQQM3S3…</td><td>&quot;QCO4G47LSMABHW…</td><td>&quot;diamond&quot;</td><td>2023-02-04</td><td>&quot;PW:KA_003035&quot;</td><td>532.0</td><td>532.0</td></tr><tr><td>&quot;MLTQLCL6RQMKPD…</td><td>&quot;IOMMA4VFR3WIB2…</td><td>&quot;silver&quot;</td><td>2023-02-03</td><td>&quot;PW:KA_002371&quot;</td><td>53.2</td><td>106.4</td></tr><tr><td>&quot;O72JX6FGUNYARA…</td><td>&quot;YVGWC4D7DCCRDH…</td><td>&quot;silver&quot;</td><td>2023-02-02</td><td>&quot;PW:AB_004184&quot;</td><td>26.6</td><td>53.2</td></tr><tr><td>&quot;KF25U5FKB2YF46…</td><td>&quot;AMAPNRDDW5PXDN…</td><td>&quot;silver&quot;</td><td>2023-02-02</td><td>&quot;PW:KA_007602&quot;</td><td>53.2</td><td>106.4</td></tr><tr><td>&quot;MLTQLCL6RQMKPD…</td><td>&quot;XTZVBJQOIJRKJW…</td><td>&quot;silver&quot;</td><td>2023-02-02</td><td>&quot;PW:KA_002307&quot;</td><td>53.2</td><td>53.2</td></tr><tr><td>&quot;MLTQLCL6RQMKPD…</td><td>&quot;FAYZG4TTM646YW…</td><td>&quot;silver&quot;</td><td>2023-02-02</td><td>&quot;PW:KA_002327&quot;</td><td>53.2</td><td>53.2</td></tr><tr><td>&quot;MXXCDNRV7INXRT…</td><td>&quot;6UCFVTDQGBP76J…</td><td>&quot;gold&quot;</td><td>2023-02-01</td><td>&quot;PW:KA_003416&quot;</td><td>266.0</td><td>266.0</td></tr></tbody></table></div>"
      ],
      "text/plain": [
       "shape: (3_781, 7)\n",
       "┌──────────────┬──────────────┬──────────┬──────────────┬──────────────┬─────────────┬─────────────┐\n",
       "│ accountAddre ┆ stakeTransac ┆ category ┆ stakeTransac ┆ deviceId     ┆ hodler_prog ┆ total_from_ │\n",
       "│ ss           ┆ tionId       ┆ ---      ┆ tionDate     ┆ ---          ┆ ram         ┆ the_beginni │\n",
       "│ ---          ┆ ---          ┆ str      ┆ ---          ┆ str          ┆ ---         ┆ ng          │\n",
       "│ str          ┆ str          ┆          ┆ date         ┆              ┆ f64         ┆ ---         │\n",
       "│              ┆              ┆          ┆              ┆              ┆             ┆ f64         │\n",
       "╞══════════════╪══════════════╪══════════╪══════════════╪══════════════╪═════════════╪═════════════╡\n",
       "│ GQK6DACLOBA6 ┆ N32URHH76QAO ┆ silver   ┆ 2023-08-07   ┆ PW:AB_003082 ┆ 26.6        ┆ 4708.2      │\n",
       "│ 5KCUQPURBRKT ┆ L6PDDILE4BQA ┆          ┆              ┆              ┆             ┆             │\n",
       "│ 5HW352KF…    ┆ H4GU2ANP…    ┆          ┆              ┆              ┆             ┆             │\n",
       "│ BYUO2RMTBOD7 ┆ DV4223WKVOE2 ┆ silver   ┆ 2023-08-07   ┆ PW:AQ_007067 ┆ 133.0       ┆ 17024.0     │\n",
       "│ DMWNDL3ZPTF6 ┆ YVS6WKL2XGYA ┆          ┆              ┆              ┆             ┆             │\n",
       "│ KCOIJH4W…    ┆ EQ6FOH6W…    ┆          ┆              ┆              ┆             ┆             │\n",
       "│ OOBP5DJRMALY ┆ AW3BH6XAXX7X ┆ diamond  ┆ 2023-08-07   ┆ PW:AB_028048 ┆ 266.0       ┆ 43890.0     │\n",
       "│ TJKZBOVR3DQL ┆ IMFJCFBKQSKH ┆          ┆              ┆              ┆             ┆             │\n",
       "│ E2QZSNSN…    ┆ 6KITEZS3…    ┆          ┆              ┆              ┆             ┆             │\n",
       "│ OOBP5DJRMALY ┆ WCEJ5VZ2WE5J ┆ diamond  ┆ 2023-08-07   ┆ PW:AB_015965 ┆ 266.0       ┆ 47880.0     │\n",
       "│ TJKZBOVR3DQL ┆ 7W5CJLWAI7AF ┆          ┆              ┆              ┆             ┆             │\n",
       "│ E2QZSNSN…    ┆ AVP5PT73…    ┆          ┆              ┆              ┆             ┆             │\n",
       "│ …            ┆ …            ┆ …        ┆ …            ┆ …            ┆ …           ┆ …           │\n",
       "│ KF25U5FKB2YF ┆ AMAPNRDDW5PX ┆ silver   ┆ 2023-02-02   ┆ PW:KA_007602 ┆ 53.2        ┆ 106.4       │\n",
       "│ 46YHD5VUEEGI ┆ DNVECCW2RM7O ┆          ┆              ┆              ┆             ┆             │\n",
       "│ EO2KXTG5…    ┆ MDBNDNSE…    ┆          ┆              ┆              ┆             ┆             │\n",
       "│ MLTQLCL6RQMK ┆ XTZVBJQOIJRK ┆ silver   ┆ 2023-02-02   ┆ PW:KA_002307 ┆ 53.2        ┆ 53.2        │\n",
       "│ PDACUIILLV5Y ┆ JWYK6FMJDFG5 ┆          ┆              ┆              ┆             ┆             │\n",
       "│ PRM7IJFF…    ┆ DET3CGGP…    ┆          ┆              ┆              ┆             ┆             │\n",
       "│ MLTQLCL6RQMK ┆ FAYZG4TTM646 ┆ silver   ┆ 2023-02-02   ┆ PW:KA_002327 ┆ 53.2        ┆ 53.2        │\n",
       "│ PDACUIILLV5Y ┆ YWTJISNOUWPV ┆          ┆              ┆              ┆             ┆             │\n",
       "│ PRM7IJFF…    ┆ 252E6RSP…    ┆          ┆              ┆              ┆             ┆             │\n",
       "│ MXXCDNRV7INX ┆ 6UCFVTDQGBP7 ┆ gold     ┆ 2023-02-01   ┆ PW:KA_003416 ┆ 266.0       ┆ 266.0       │\n",
       "│ RTCZM2WQXM3W ┆ 6JZPYIPDL5IN ┆          ┆              ┆              ┆             ┆             │\n",
       "│ XRQTWK5P…    ┆ WLCSHQYB…    ┆          ┆              ┆              ┆             ┆             │\n",
       "└──────────────┴──────────────┴──────────┴──────────────┴──────────────┴─────────────┴─────────────┘"
      ]
     },
     "execution_count": 6,
     "metadata": {},
     "output_type": "execute_result"
    }
   ],
   "source": [
    "unique_device_IDs = combined_staked_df.unique(\"deviceId\", maintain_order=True)\n",
    "hodler_vals = [row[\"hodler_program\"] for row in unique_device_IDs.iter_rows(named=True)]\n",
    "category_vals = [row[\"category\"] for row in unique_device_IDs.iter_rows(named=True)]\n",
    "deviceID_vals = [row[\"deviceId\"] for row in unique_device_IDs.iter_rows(named=True)]\n",
    "\n",
    "unique_device_IDs"
   ]
  },
  {
   "cell_type": "code",
   "execution_count": 7,
   "metadata": {},
   "outputs": [],
   "source": [
    "device_types = []\n",
    "missing_sensor_address = []\n",
    "\n",
    "for i in range(len(unique_device_IDs)):\n",
    "    if hodler_vals[i] == 26.6 and category_vals[i] == \"silver\":\n",
    "        device_types.append(\"4\")\n",
    "    if hodler_vals[i] == 53.2 and category_vals[i] == \"silver\":\n",
    "        try:\n",
    "            current_ID = combined_transact_df.filter(pl.col(\"deviceId\") == deviceID_vals[i])\n",
    "            device_types.append([row[\"type\"] for row in current_ID.iter_rows(named=True)][0])\n",
    "        except:\n",
    "            missing_sensor_address.append(deviceID_vals[i])\n",
    "    if hodler_vals[i] == 133.0 and category_vals[i] == \"silver\":\n",
    "        device_types.append(\"1\")\n",
    "    if hodler_vals[i] == 133.0 and category_vals[i] == \"gold\":\n",
    "        device_types.append(\"4\")\n",
    "    if hodler_vals[i] == 266.0 and category_vals[i] == \"gold\":\n",
    "        try:\n",
    "            current_ID = combined_transact_df.filter(pl.col(\"deviceId\") == deviceID_vals[i])\n",
    "            device_types.append([row[\"type\"] for row in current_ID.iter_rows(named=True)][0])\n",
    "        except:\n",
    "            missing_sensor_address.append(deviceID_vals[i])\n",
    "    if hodler_vals[i] == 665.0 and category_vals[i] == \"gold\":\n",
    "        device_types.append(\"1\")\n",
    "    if hodler_vals[i] == 266.0 and category_vals[i] == \"diamond\":\n",
    "        device_types.append(\"4\")\n",
    "    if hodler_vals[i] == 532.0 and category_vals[i] == \"diamond\":\n",
    "        try:\n",
    "            current_ID = combined_transact_df.filter(pl.col(\"deviceId\") == deviceID_vals[i])\n",
    "            device_types.append([row[\"type\"] for row in current_ID.iter_rows(named=True)][0])\n",
    "        except:\n",
    "            missing_sensor_address.append(deviceID_vals[i])\n",
    "    if hodler_vals[i] == 1330.0 and category_vals[i] == \"diamond\":\n",
    "        device_types.append(\"1\")    "
   ]
  },
  {
   "cell_type": "code",
   "execution_count": 11,
   "metadata": {},
   "outputs": [
    {
     "data": {
      "text/html": [
       "<div><style>\n",
       ".dataframe > thead > tr > th,\n",
       ".dataframe > tbody > tr > td {\n",
       "  text-align: right;\n",
       "}\n",
       "</style>\n",
       "<small>shape: (3_781, 6)</small><table border=\"1\" class=\"dataframe\"><thead><tr><th>deviceId</th><th>accountAddress</th><th>balance</th><th>total_from_the_beginning</th><th>category</th><th>type</th></tr><tr><td>str</td><td>str</td><td>f64</td><td>f64</td><td>str</td><td>str</td></tr></thead><tbody><tr><td>&quot;PW:AB_003082&quot;</td><td>&quot;GQK6DACLOBA65K…</td><td>29224.115147</td><td>4708.2</td><td>&quot;silver&quot;</td><td>&quot;4&quot;</td></tr><tr><td>&quot;PW:AQ_007067&quot;</td><td>&quot;BYUO2RMTBOD7DM…</td><td>114270.443206</td><td>17024.0</td><td>&quot;silver&quot;</td><td>&quot;1&quot;</td></tr><tr><td>&quot;PW:AB_028048&quot;</td><td>&quot;OOBP5DJRMALYTJ…</td><td>140479.290582</td><td>43890.0</td><td>&quot;diamond&quot;</td><td>&quot;4&quot;</td></tr><tr><td>&quot;PW:AB_015965&quot;</td><td>&quot;OOBP5DJRMALYTJ…</td><td>140479.290582</td><td>47880.0</td><td>&quot;diamond&quot;</td><td>&quot;4&quot;</td></tr><tr><td>&quot;PW:TU_000198&quot;</td><td>&quot;Y4OFYXBM45HOKB…</td><td>85400.602466</td><td>48678.0</td><td>&quot;gold&quot;</td><td>&quot;2&quot;</td></tr><tr><td>&quot;PW:KA_013602&quot;</td><td>&quot;Y4OFYXBM45HOKB…</td><td>85400.602466</td><td>6384.0</td><td>&quot;silver&quot;</td><td>&quot;3&quot;</td></tr><tr><td>&quot;PW:AB_014402&quot;</td><td>&quot;HFPCVESO2XLDIG…</td><td>560010.000079</td><td>41762.0</td><td>&quot;diamond&quot;</td><td>&quot;4&quot;</td></tr><tr><td>&quot;PW:AQ_007079&quot;</td><td>&quot;BYUO2RMTBOD7DM…</td><td>114270.443206</td><td>20881.0</td><td>&quot;silver&quot;</td><td>&quot;1&quot;</td></tr><tr><td>&quot;PW:AQ_007062&quot;</td><td>&quot;BYUO2RMTBOD7DM…</td><td>114270.443206</td><td>24206.0</td><td>&quot;silver&quot;</td><td>&quot;1&quot;</td></tr><tr><td>&quot;PW:AQ_005569&quot;</td><td>&quot;HFPCVESO2XLDIG…</td><td>560010.000079</td><td>194845.0</td><td>&quot;diamond&quot;</td><td>&quot;1&quot;</td></tr><tr><td>&quot;PW:KA_018034&quot;</td><td>&quot;HFPCVESO2XLDIG…</td><td>560010.000079</td><td>77459.2</td><td>&quot;diamond&quot;</td><td>&quot;3&quot;</td></tr><tr><td>&quot;PW:IN_000011&quot;</td><td>&quot;PFTV6AASEGBJYA…</td><td>1.0005e6</td><td>47614.0</td><td>&quot;diamond&quot;</td><td>&quot;4&quot;</td></tr><tr><td>&hellip;</td><td>&hellip;</td><td>&hellip;</td><td>&hellip;</td><td>&hellip;</td><td>&hellip;</td></tr><tr><td>&quot;PW:AQ_005111&quot;</td><td>&quot;WXLGXPJGP3TPYZ…</td><td>0.0</td><td>532.0</td><td>&quot;silver&quot;</td><td>&quot;1&quot;</td></tr><tr><td>&quot;PW:AQ_005113&quot;</td><td>&quot;WXLGXPJGP3TPYZ…</td><td>0.0</td><td>532.0</td><td>&quot;silver&quot;</td><td>&quot;1&quot;</td></tr><tr><td>&quot;PW:AQ_005138&quot;</td><td>&quot;WXLGXPJGP3TPYZ…</td><td>0.0</td><td>532.0</td><td>&quot;silver&quot;</td><td>&quot;1&quot;</td></tr><tr><td>&quot;PW:AQ_005165&quot;</td><td>&quot;WXLGXPJGP3TPYZ…</td><td>0.0</td><td>532.0</td><td>&quot;silver&quot;</td><td>&quot;1&quot;</td></tr><tr><td>&quot;PW:AQ_005586&quot;</td><td>&quot;WXLGXPJGP3TPYZ…</td><td>0.0</td><td>532.0</td><td>&quot;silver&quot;</td><td>&quot;1&quot;</td></tr><tr><td>&quot;PW:KA_003035&quot;</td><td>&quot;LGVKX52DQQM3S3…</td><td>651801.903845</td><td>532.0</td><td>&quot;diamond&quot;</td><td>&quot;3&quot;</td></tr><tr><td>&quot;PW:KA_002371&quot;</td><td>&quot;MLTQLCL6RQMKPD…</td><td>0.0</td><td>106.4</td><td>&quot;silver&quot;</td><td>&quot;3&quot;</td></tr><tr><td>&quot;PW:AB_004184&quot;</td><td>&quot;O72JX6FGUNYARA…</td><td>15.04</td><td>53.2</td><td>&quot;silver&quot;</td><td>&quot;4&quot;</td></tr><tr><td>&quot;PW:KA_007602&quot;</td><td>&quot;KF25U5FKB2YF46…</td><td>146536.492002</td><td>106.4</td><td>&quot;silver&quot;</td><td>&quot;3&quot;</td></tr><tr><td>&quot;PW:KA_002307&quot;</td><td>&quot;MLTQLCL6RQMKPD…</td><td>0.0</td><td>53.2</td><td>&quot;silver&quot;</td><td>&quot;3&quot;</td></tr><tr><td>&quot;PW:KA_002327&quot;</td><td>&quot;MLTQLCL6RQMKPD…</td><td>0.0</td><td>53.2</td><td>&quot;silver&quot;</td><td>&quot;3&quot;</td></tr><tr><td>&quot;PW:KA_003416&quot;</td><td>&quot;MXXCDNRV7INXRT…</td><td>0.0</td><td>266.0</td><td>&quot;gold&quot;</td><td>&quot;3&quot;</td></tr></tbody></table></div>"
      ],
      "text/plain": [
       "shape: (3_781, 6)\n",
       "┌──────────────┬────────────────────────┬───────────────┬────────────────────────┬──────────┬──────┐\n",
       "│ deviceId     ┆ accountAddress         ┆ balance       ┆ total_from_the_beginni ┆ category ┆ type │\n",
       "│ ---          ┆ ---                    ┆ ---           ┆ ng                     ┆ ---      ┆ ---  │\n",
       "│ str          ┆ str                    ┆ f64           ┆ ---                    ┆ str      ┆ str  │\n",
       "│              ┆                        ┆               ┆ f64                    ┆          ┆      │\n",
       "╞══════════════╪════════════════════════╪═══════════════╪════════════════════════╪══════════╪══════╡\n",
       "│ PW:AB_003082 ┆ GQK6DACLOBA65KCUQPURBR ┆ 29224.115147  ┆ 4708.2                 ┆ silver   ┆ 4    │\n",
       "│              ┆ KT5HW352KF…            ┆               ┆                        ┆          ┆      │\n",
       "│ PW:AQ_007067 ┆ BYUO2RMTBOD7DMWNDL3ZPT ┆ 114270.443206 ┆ 17024.0                ┆ silver   ┆ 1    │\n",
       "│              ┆ F6KCOIJH4W…            ┆               ┆                        ┆          ┆      │\n",
       "│ PW:AB_028048 ┆ OOBP5DJRMALYTJKZBOVR3D ┆ 140479.290582 ┆ 43890.0                ┆ diamond  ┆ 4    │\n",
       "│              ┆ QLE2QZSNSN…            ┆               ┆                        ┆          ┆      │\n",
       "│ PW:AB_015965 ┆ OOBP5DJRMALYTJKZBOVR3D ┆ 140479.290582 ┆ 47880.0                ┆ diamond  ┆ 4    │\n",
       "│              ┆ QLE2QZSNSN…            ┆               ┆                        ┆          ┆      │\n",
       "│ …            ┆ …                      ┆ …             ┆ …                      ┆ …        ┆ …    │\n",
       "│ PW:KA_007602 ┆ KF25U5FKB2YF46YHD5VUEE ┆ 146536.492002 ┆ 106.4                  ┆ silver   ┆ 3    │\n",
       "│              ┆ GIEO2KXTG5…            ┆               ┆                        ┆          ┆      │\n",
       "│ PW:KA_002307 ┆ MLTQLCL6RQMKPDACUIILLV ┆ 0.0           ┆ 53.2                   ┆ silver   ┆ 3    │\n",
       "│              ┆ 5YPRM7IJFF…            ┆               ┆                        ┆          ┆      │\n",
       "│ PW:KA_002327 ┆ MLTQLCL6RQMKPDACUIILLV ┆ 0.0           ┆ 53.2                   ┆ silver   ┆ 3    │\n",
       "│              ┆ 5YPRM7IJFF…            ┆               ┆                        ┆          ┆      │\n",
       "│ PW:KA_003416 ┆ MXXCDNRV7INXRTCZM2WQXM ┆ 0.0           ┆ 266.0                  ┆ gold     ┆ 3    │\n",
       "│              ┆ 3WXRQTWK5P…            ┆               ┆                        ┆          ┆      │\n",
       "└──────────────┴────────────────────────┴───────────────┴────────────────────────┴──────────┴──────┘"
      ]
     },
     "execution_count": 11,
     "metadata": {},
     "output_type": "execute_result"
    }
   ],
   "source": [
    "fact_table_df = pl.concat([unique_device_IDs.select(\"deviceId\"), unique_device_IDs.select(\"accountAddress\")], how=\"horizontal\")\n",
    "fact_table_df = fact_table_df.join(combined_staked_account_df, on=\"accountAddress\", how=\"inner\")\n",
    "fact_table_df = fact_table_df.join(unique_device_IDs.select(\"deviceId\", \"total_from_the_beginning\", \"category\"), on=\"deviceId\", how=\"inner\")\n",
    "fact_table_df = fact_table_df.with_columns(pl.Series(\"type\",device_types))\n",
    "\n",
    "fact_table_df"
   ]
  },
  {
   "cell_type": "code",
   "execution_count": 9,
   "metadata": {},
   "outputs": [],
   "source": [
    "type_1_sensor_transact_table = combined_transact_df.filter(pl.col(\"type\") == \"1\")\n",
    "type_2_sensor_transact_table = combined_transact_df.filter(pl.col(\"type\") == \"2\")\n",
    "type_3_sensor_transact_table = combined_transact_df.filter(pl.col(\"type\") == \"3\")\n",
    "type_4_sensor_transact_table = combined_transact_df.filter(pl.col(\"type\") == \"4\")\n",
    "\n",
    "combined_staked_df = combined_staked_df.join(fact_table_df.select(\"deviceId\", \"type\"), on=\"deviceId\", how=\"inner\")\n",
    "combined_staked_df = combined_staked_df.drop(\"total_from_the_beginning\")\n",
    "\n",
    "type_1_stake_transact_table = combined_staked_df.filter(pl.col(\"type\") == \"1\")\n",
    "type_2_stake_transact_table = combined_staked_df.filter(pl.col(\"type\") == \"2\")\n",
    "type_3_stake_transact_table = combined_staked_df.filter(pl.col(\"type\") == \"3\")\n",
    "type_4_stake_transact_table = combined_staked_df.filter(pl.col(\"type\") == \"4\")\n",
    "\n"
   ]
  },
  {
   "cell_type": "code",
   "execution_count": 10,
   "metadata": {},
   "outputs": [
    {
     "data": {
      "text/plain": [
       "-1"
      ]
     },
     "execution_count": 10,
     "metadata": {},
     "output_type": "execute_result"
    }
   ],
   "source": [
    "fact_table_df.to_pandas().to_sql(name=\"pw_data_fact_table\", con= engine, if_exists=\"replace\")\n",
    "combined_staked_df.to_pandas().to_sql(name=\"staking_transactions\", con= engine, if_exists=\"replace\")\n",
    "combined_transact_df.to_pandas().to_sql(name=\"sensor_transactions\", con= engine, if_exists=\"replace\")\n",
    "type_1_sensor_transact_table.to_pandas().to_sql(name=\"type_1_sensor_transactions\", con= engine, if_exists=\"replace\")\n",
    "type_2_sensor_transact_table.to_pandas().to_sql(name=\"type_2_sensor_transactions\", con= engine, if_exists=\"replace\")\n",
    "type_3_sensor_transact_table.to_pandas().to_sql(name=\"type_3_sensor_transactions\", con= engine, if_exists=\"replace\")\n",
    "type_4_sensor_transact_table.to_pandas().to_sql(name=\"type_4_sensor_transactions\", con= engine, if_exists=\"replace\")\n",
    "type_1_stake_transact_table.to_pandas().to_sql(name=\"type_1_staking_transactions\", con= engine, if_exists=\"replace\")\n",
    "type_2_stake_transact_table.to_pandas().to_sql(name=\"type_2_staking_transactions\", con= engine, if_exists=\"replace\")\n",
    "type_3_stake_transact_table.to_pandas().to_sql(name=\"type_3_staking_transactions\", con= engine, if_exists=\"replace\")\n",
    "type_4_stake_transact_table.to_pandas().to_sql(name=\"type_4_staking_transactions\", con= engine, if_exists=\"replace\")"
   ]
  }
 ],
 "metadata": {
  "kernelspec": {
   "display_name": "Python 3",
   "language": "python",
   "name": "python3"
  },
  "language_info": {
   "codemirror_mode": {
    "name": "ipython",
    "version": 3
   },
   "file_extension": ".py",
   "mimetype": "text/x-python",
   "name": "python",
   "nbconvert_exporter": "python",
   "pygments_lexer": "ipython3",
   "version": "3.10.12"
  },
  "orig_nbformat": 4
 },
 "nbformat": 4,
 "nbformat_minor": 2
}
